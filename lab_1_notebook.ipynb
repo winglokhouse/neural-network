{
 "cells": [
  {
   "cell_type": "markdown",
   "metadata": {},
   "source": [
    "# Forecasting Financial Securities Trading Volume with an LSTM Neural Network\n",
    "<a name=\"toc\"></a>\n",
    "\n",
    "**Estimated time: 35 min**\n",
    "\n",
    "This notebook will use the example of forecasting the trading volumes of financial securities, to demonstrate the set-up and implementation of a Long Short-Term Memory (LSTM) neural network for the purpose of prediction. \n",
    "\n",
    "This content was designed to run from within an [AWS EC2 Deep Learning AMI](https://aws.amazon.com/marketplace/fulfillment?productId=17364a08-2d77-4969-8dbe-d46dcfea4d64&ref_=dtl_psb_continue), of size m5.xlarge. \n",
    "\n",
    "In this lab, you will download a real dataset and format it for digestion by an LSTM. You will then set up the design of your LSTM network and train the model with the given data. You will use the trained LSTM model to predict the out-of-sample trading volumes, and evaluate the forecast's accuracy. A challenge at the end of this lab will provide you with an opportunity to think more critically about some of these areas.\n",
    "\n",
    "**Table of Contents:** \n",
    "\n",
    "1. [Getting Started](#start)\n",
    "1. [The Data](#data)\n",
    "1. [Problem Statement](#problemstatement)\n",
    "1. [Data Pre-processing](#engineering)\n",
    "    1. [Reshape from a Time Series into Supervised Observations](#supervised)\n",
    "    1. [Split into Training and Test Sets](#training)\n",
    "    1. [Format the Data for LSTM Input](#reshape)\n",
    "1. [Design the LSTM](#design)\n",
    "    1. [Fit the LSTM Network with the Training Data](#fit)\n",
    "1. [Predict the Test Data](#predict)\n",
    "    1. [Evaluate the LSTM Performance](#evaluate)\n",
    "1. [Lab Challenge](#challenge)\n",
    "1. [Challege Solutions](#solution)\n",
    "\n",
    "# Getting Started <a name=\"start\"></a>\n",
    "\n",
    "To complete this lab, carefully move through this notebook, from top to bottom, making sure to read all text instructions/explanations and run each code cell in order. Also be sure to view the code cell outputs. To run each cell, step-by-step in the Jupyter notebook, click within the cell and press **SHIFT + ENTER** or choose **Run** at the top of the page. You will know that a code cell has completed running when you see a number inside the square brackets located to the left of the code cell. Alternatively, **[ ]** indicates the cell has yet to be run, and **[*]** indicates that the cell is still processing.\n",
    "\n",
    "Get started with this lab by learning a little more about the dataset you will be using throughout this notebook.\n",
    "\n",
    "<div style=\"text-align: right\"><a href=\"#toc\">Back to top</a></div>\n",
    "\n",
    "# The Data <a name=\"data\"></a>\n",
    "\n",
    "Data for this lab is taken from the Deutsche Börse Public Dataset (PDS), a project that makes near-time data derived from Deutsche Börse's trading systems available to the public for free. By permission of Deutsche Börse, this dataset is made available under a Non-commercial (NC) license that allows licensees to copy, distribute, display, and perform the work and make derivative works and remixes based on it only for non-commercial purposes. \n",
    "\n",
    "For your next step, read the data from its S3 locations directly into your notebook's memory. The data may take a few seconds to output.\n",
    "\n",
    "<div style=\"text-align: right\"><a href=\"#toc\">Back to top</a></div>"
   ]
  },
  {
   "cell_type": "code",
   "execution_count": 1,
   "metadata": {},
   "outputs": [
    {
     "data": {
      "text/html": [
       "<div>\n",
       "<style scoped>\n",
       "    .dataframe tbody tr th:only-of-type {\n",
       "        vertical-align: middle;\n",
       "    }\n",
       "\n",
       "    .dataframe tbody tr th {\n",
       "        vertical-align: top;\n",
       "    }\n",
       "\n",
       "    .dataframe thead th {\n",
       "        text-align: right;\n",
       "    }\n",
       "</style>\n",
       "<table border=\"1\" class=\"dataframe\">\n",
       "  <thead>\n",
       "    <tr style=\"text-align: right;\">\n",
       "      <th></th>\n",
       "      <th>ISIN</th>\n",
       "      <th>Mnemonic</th>\n",
       "      <th>SecurityDesc</th>\n",
       "      <th>SecurityType</th>\n",
       "      <th>Currency</th>\n",
       "      <th>SecurityID</th>\n",
       "      <th>Date</th>\n",
       "      <th>Time</th>\n",
       "      <th>StartPrice</th>\n",
       "      <th>MaxPrice</th>\n",
       "      <th>MinPrice</th>\n",
       "      <th>EndPrice</th>\n",
       "      <th>TradedVolume</th>\n",
       "      <th>NumberOfTrades</th>\n",
       "    </tr>\n",
       "    <tr>\n",
       "      <th>DateTime</th>\n",
       "      <th></th>\n",
       "      <th></th>\n",
       "      <th></th>\n",
       "      <th></th>\n",
       "      <th></th>\n",
       "      <th></th>\n",
       "      <th></th>\n",
       "      <th></th>\n",
       "      <th></th>\n",
       "      <th></th>\n",
       "      <th></th>\n",
       "      <th></th>\n",
       "      <th></th>\n",
       "      <th></th>\n",
       "    </tr>\n",
       "  </thead>\n",
       "  <tbody>\n",
       "    <tr>\n",
       "      <th>2018-10-10 13:00:00</th>\n",
       "      <td>DE0006047004</td>\n",
       "      <td>HEI</td>\n",
       "      <td>HEIDELBERGCEMENT AG O.N.</td>\n",
       "      <td>Common stock</td>\n",
       "      <td>EUR</td>\n",
       "      <td>2505002</td>\n",
       "      <td>2018-10-10</td>\n",
       "      <td>13:00</td>\n",
       "      <td>63.580</td>\n",
       "      <td>63.620</td>\n",
       "      <td>63.580</td>\n",
       "      <td>63.620</td>\n",
       "      <td>340</td>\n",
       "      <td>4</td>\n",
       "    </tr>\n",
       "    <tr>\n",
       "      <th>2018-10-10 13:00:00</th>\n",
       "      <td>DE000SYM9999</td>\n",
       "      <td>SY1</td>\n",
       "      <td>SYMRISE AG INH. O.N.</td>\n",
       "      <td>Common stock</td>\n",
       "      <td>EUR</td>\n",
       "      <td>2504852</td>\n",
       "      <td>2018-10-10</td>\n",
       "      <td>13:00</td>\n",
       "      <td>72.400</td>\n",
       "      <td>72.460</td>\n",
       "      <td>72.400</td>\n",
       "      <td>72.460</td>\n",
       "      <td>617</td>\n",
       "      <td>9</td>\n",
       "    </tr>\n",
       "    <tr>\n",
       "      <th>2018-10-10 13:00:00</th>\n",
       "      <td>DE000A2LQ2L3</td>\n",
       "      <td>IGYB</td>\n",
       "      <td>INNOGY SE  Z.VERK.</td>\n",
       "      <td>Common stock</td>\n",
       "      <td>EUR</td>\n",
       "      <td>3166236</td>\n",
       "      <td>2018-10-10</td>\n",
       "      <td>13:00</td>\n",
       "      <td>36.815</td>\n",
       "      <td>36.815</td>\n",
       "      <td>36.815</td>\n",
       "      <td>36.815</td>\n",
       "      <td>571</td>\n",
       "      <td>1</td>\n",
       "    </tr>\n",
       "    <tr>\n",
       "      <th>2018-10-10 13:00:00</th>\n",
       "      <td>LU1296758029</td>\n",
       "      <td>CCAP</td>\n",
       "      <td>CORESTATE CAPITAL HLDG</td>\n",
       "      <td>Common stock</td>\n",
       "      <td>EUR</td>\n",
       "      <td>2506149</td>\n",
       "      <td>2018-10-10</td>\n",
       "      <td>13:00</td>\n",
       "      <td>36.800</td>\n",
       "      <td>36.800</td>\n",
       "      <td>36.800</td>\n",
       "      <td>36.800</td>\n",
       "      <td>65</td>\n",
       "      <td>2</td>\n",
       "    </tr>\n",
       "    <tr>\n",
       "      <th>2018-10-10 13:00:00</th>\n",
       "      <td>DE0008232125</td>\n",
       "      <td>LHA</td>\n",
       "      <td>LUFTHANSA AG VNA O.N.</td>\n",
       "      <td>Common stock</td>\n",
       "      <td>EUR</td>\n",
       "      <td>2505130</td>\n",
       "      <td>2018-10-10</td>\n",
       "      <td>13:00</td>\n",
       "      <td>19.605</td>\n",
       "      <td>19.610</td>\n",
       "      <td>19.605</td>\n",
       "      <td>19.605</td>\n",
       "      <td>3002</td>\n",
       "      <td>4</td>\n",
       "    </tr>\n",
       "  </tbody>\n",
       "</table>\n",
       "</div>"
      ],
      "text/plain": [
       "                             ISIN Mnemonic              SecurityDesc  \\\n",
       "DateTime                                                               \n",
       "2018-10-10 13:00:00  DE0006047004      HEI  HEIDELBERGCEMENT AG O.N.   \n",
       "2018-10-10 13:00:00  DE000SYM9999      SY1      SYMRISE AG INH. O.N.   \n",
       "2018-10-10 13:00:00  DE000A2LQ2L3     IGYB        INNOGY SE  Z.VERK.   \n",
       "2018-10-10 13:00:00  LU1296758029     CCAP    CORESTATE CAPITAL HLDG   \n",
       "2018-10-10 13:00:00  DE0008232125      LHA     LUFTHANSA AG VNA O.N.   \n",
       "\n",
       "                     SecurityType Currency  SecurityID        Date   Time  \\\n",
       "DateTime                                                                    \n",
       "2018-10-10 13:00:00  Common stock      EUR     2505002  2018-10-10  13:00   \n",
       "2018-10-10 13:00:00  Common stock      EUR     2504852  2018-10-10  13:00   \n",
       "2018-10-10 13:00:00  Common stock      EUR     3166236  2018-10-10  13:00   \n",
       "2018-10-10 13:00:00  Common stock      EUR     2506149  2018-10-10  13:00   \n",
       "2018-10-10 13:00:00  Common stock      EUR     2505130  2018-10-10  13:00   \n",
       "\n",
       "                     StartPrice  MaxPrice  MinPrice  EndPrice  TradedVolume  \\\n",
       "DateTime                                                                      \n",
       "2018-10-10 13:00:00      63.580    63.620    63.580    63.620           340   \n",
       "2018-10-10 13:00:00      72.400    72.460    72.400    72.460           617   \n",
       "2018-10-10 13:00:00      36.815    36.815    36.815    36.815           571   \n",
       "2018-10-10 13:00:00      36.800    36.800    36.800    36.800            65   \n",
       "2018-10-10 13:00:00      19.605    19.610    19.605    19.605          3002   \n",
       "\n",
       "                     NumberOfTrades  \n",
       "DateTime                             \n",
       "2018-10-10 13:00:00               4  \n",
       "2018-10-10 13:00:00               9  \n",
       "2018-10-10 13:00:00               1  \n",
       "2018-10-10 13:00:00               2  \n",
       "2018-10-10 13:00:00               4  "
      ]
     },
     "execution_count": 1,
     "metadata": {},
     "output_type": "execute_result"
    }
   ],
   "source": [
    "import pandas as pd\n",
    "csvList = ['s3://deutsche-boerse-xetra-pds/2018-10-10/2018-10-10_BINS_XETR13.csv',\n",
    "           's3://deutsche-boerse-xetra-pds/2018-10-10/2018-10-10_BINS_XETR14.csv',\n",
    "           's3://deutsche-boerse-xetra-pds/2018-10-10/2018-10-10_BINS_XETR15.csv']\n",
    "\n",
    "raw = pd.concat([pd.read_csv(f, error_bad_lines=False, warn_bad_lines=False) for f in csvList], ignore_index = True)\n",
    "\n",
    "dt = raw.iloc[0]['Date']\n",
    "raw.drop(raw.index[raw['Date']!=dt], inplace=True)\n",
    "raw['DateTime'] = pd.to_datetime(raw['Date'] + ' ' + raw['Time'])\n",
    "raw.set_index('DateTime', inplace=True)\n",
    "raw.head()"
   ]
  },
  {
   "cell_type": "code",
   "execution_count": 2,
   "metadata": {},
   "outputs": [
    {
     "name": "stdout",
     "output_type": "stream",
     "text": [
      "<class 'pandas.core.frame.DataFrame'>\n",
      "DatetimeIndex: 30683 entries, 2018-10-10 13:00:00 to 2018-10-10 15:49:00\n",
      "Data columns (total 14 columns):\n",
      "ISIN              30683 non-null object\n",
      "Mnemonic          30683 non-null object\n",
      "SecurityDesc      30683 non-null object\n",
      "SecurityType      30683 non-null object\n",
      "Currency          30683 non-null object\n",
      "SecurityID        30683 non-null int64\n",
      "Date              30683 non-null object\n",
      "Time              30683 non-null object\n",
      "StartPrice        30683 non-null float64\n",
      "MaxPrice          30683 non-null float64\n",
      "MinPrice          30683 non-null float64\n",
      "EndPrice          30683 non-null float64\n",
      "TradedVolume      30683 non-null int64\n",
      "NumberOfTrades    30683 non-null int64\n",
      "dtypes: float64(4), int64(3), object(7)\n",
      "memory usage: 3.5+ MB\n"
     ]
    }
   ],
   "source": [
    "raw.info()"
   ]
  },
  {
   "cell_type": "code",
   "execution_count": 3,
   "metadata": {},
   "outputs": [
    {
     "data": {
      "text/plain": [
       "DatetimeIndex(['2018-10-10 13:00:00', '2018-10-10 13:01:00',\n",
       "               '2018-10-10 13:02:00', '2018-10-10 13:03:00',\n",
       "               '2018-10-10 13:04:00', '2018-10-10 13:05:00',\n",
       "               '2018-10-10 13:06:00', '2018-10-10 13:07:00',\n",
       "               '2018-10-10 13:08:00', '2018-10-10 13:09:00'],\n",
       "              dtype='datetime64[ns]', name='DateTime', freq=None)"
      ]
     },
     "execution_count": 3,
     "metadata": {},
     "output_type": "execute_result"
    }
   ],
   "source": [
    "raw.index.unique()[:10]"
   ]
  },
  {
   "cell_type": "markdown",
   "metadata": {},
   "source": [
    "## Problem Statement <a name=\"problemstatement\"></a>\n",
    "\n",
    "Within this dataset, you will focus on the univariate series, the column titled `TradedVolume`. This has the total size of trades made for a given security at its point in time. Take the trades in the 100 minutes from 13:30 PM to 15:10 PM, and see if you can use the first 70 minutes of trades to train a model, which can subsequently predict one-step ahead volumes for the subsequent 30 minutes.\n",
    "\n",
    "Visualize this data by running the code below.\n",
    "\n",
    "<div style=\"text-align: right\"><a href=\"#toc\">Back to top</a></div>"
   ]
  },
  {
   "cell_type": "code",
   "execution_count": 4,
   "metadata": {},
   "outputs": [
    {
     "data": {
      "text/plain": [
       "DateTime\n",
       "2018-10-10 13:30:00    487848\n",
       "2018-10-10 13:31:00    431922\n",
       "2018-10-10 13:32:00    612983\n",
       "2018-10-10 13:33:00    321500\n",
       "2018-10-10 13:34:00    333293\n",
       "Freq: T, Name: TradedVolume, dtype: int64"
      ]
     },
     "execution_count": 4,
     "metadata": {},
     "output_type": "execute_result"
    }
   ],
   "source": [
    "series = raw['TradedVolume'].resample('min').sum()['2018-10-10 13:30:00':'2018-10-10 15:09:00']\n",
    "series[:5]"
   ]
  },
  {
   "cell_type": "code",
   "execution_count": 5,
   "metadata": {},
   "outputs": [
    {
     "data": {
      "text/plain": [
       "array([487848, 431922, 612983, 321500, 333293])"
      ]
     },
     "execution_count": 5,
     "metadata": {},
     "output_type": "execute_result"
    }
   ],
   "source": [
    "series.ravel()[:5]"
   ]
  },
  {
   "cell_type": "code",
   "execution_count": 6,
   "metadata": {},
   "outputs": [
    {
     "name": "stderr",
     "output_type": "stream",
     "text": [
      "/opt/miniconda3/envs/conda_env/lib/python3.7/site-packages/pandas/plotting/_converter.py:129: FutureWarning: Using an implicitly registered datetime converter for a matplotlib plotting method. The converter was registered by pandas on import. Future versions of pandas will require you to explicitly register matplotlib converters.\n",
      "\n",
      "To register the converters:\n",
      "\t>>> from pandas.plotting import register_matplotlib_converters\n",
      "\t>>> register_matplotlib_converters()\n",
      "  warnings.warn(msg, FutureWarning)\n"
     ]
    },
    {
     "data": {
      "image/png": "[encoded data removed]",
      "text/plain": [
       "<Figure size 1080x360 with 1 Axes>"
      ]
     },
     "metadata": {},
     "output_type": "display_data"
    }
   ],
   "source": [
    "import matplotlib as mpl\n",
    "from matplotlib import pyplot as plt\n",
    "import numpy as np\n",
    "from numpy import matlib\n",
    "%matplotlib inline\n",
    "plt.style.use(['dark_background'])\n",
    "mpl.rcParams['lines.linewidth'] = 2\n",
    "mpl.rcParams['font.size'] = 18\n",
    "mpl.rcParams['figure.figsize'] = [15,5]\n",
    "\n",
    "plt.figure(figsize=[15,5])\n",
    "#plt.plot(series.ravel(), color='deepskyblue')\n",
    "plt.plot(series, color='deepskyblue')\n",
    "plt.xlabel('Order in Time' );\n",
    "plt.ylabel('Trade Volume', color='deepskyblue');\n",
    "plt.title('Visualize the data');"
   ]
  },
  {
   "cell_type": "markdown",
   "metadata": {},
   "source": [
    "\n",
    "## Data Pre-Processing <a name=\"engineering\"></a>\n",
    "\n",
    "With a time series, it is good practice to use the differences between the data points. This is because differenced data are more likely to recover stationarity. For example, if your data exhibits random walk behavior, its differences should oscillate around a constant mean of zero. So you'll do just this in the code cell below.\n",
    "\n",
    "<div style=\"text-align: right\"><a href=\"#toc\">Back to top</a></div>"
   ]
  },
  {
   "cell_type": "code",
   "execution_count": 7,
   "metadata": {},
   "outputs": [
    {
     "data": {
      "text/plain": [
       "array([487848, 431922, 612983, 321500, 333293])"
      ]
     },
     "execution_count": 7,
     "metadata": {},
     "output_type": "execute_result"
    }
   ],
   "source": [
    "series.values[:5]"
   ]
  },
  {
   "cell_type": "code",
   "execution_count": 8,
   "metadata": {},
   "outputs": [],
   "source": [
    "raw_values = series.values\n",
    "diff_series = series.diff().dropna()"
   ]
  },
  {
   "cell_type": "code",
   "execution_count": 10,
   "metadata": {},
   "outputs": [
    {
     "data": {
      "text/plain": [
       "array([487848, 431922, 612983, 321500, 333293])"
      ]
     },
     "execution_count": 10,
     "metadata": {},
     "output_type": "execute_result"
    }
   ],
   "source": [
    "raw_values[:5]"
   ]
  },
  {
   "cell_type": "code",
   "execution_count": 9,
   "metadata": {},
   "outputs": [
    {
     "data": {
      "text/plain": [
       "DateTime\n",
       "2018-10-10 13:31:00    -55926.0\n",
       "2018-10-10 13:32:00    181061.0\n",
       "2018-10-10 13:33:00   -291483.0\n",
       "2018-10-10 13:34:00     11793.0\n",
       "2018-10-10 13:35:00    345996.0\n",
       "Freq: T, Name: TradedVolume, dtype: float64"
      ]
     },
     "execution_count": 9,
     "metadata": {},
     "output_type": "execute_result"
    }
   ],
   "source": [
    "diff_series[:5]"
   ]
  },
  {
   "cell_type": "markdown",
   "metadata": {},
   "source": [
    "### Reshape Data from a Time Series to Supervised Observations <a name=\"supervised\"></a>\n",
    "\n",
    "Remember, your goal is to predict the volume of the next traded security, that is, the volume at $t+1$.\n",
    "\n",
    "Therefore, you need to reshape the data from being one long time series ${Y_t}$, into rows of supervised observations ${X_t, Y_t}$. You are using data at time $t-1$ as input to predict a value at time $t$. To do this, create a dataframe where each row has input column $t-1$ and output column $t$.\n",
    "\n",
    "<div style=\"text-align: right\"><a href=\"#toc\">Back to top</a></div>"
   ]
  },
  {
   "cell_type": "markdown",
   "metadata": {},
   "source": [
    "#### Example\n",
    "\\>>> np.arange(3,7,2)\n",
    "\n",
    "array([3, 5])"
   ]
  },
  {
   "cell_type": "code",
   "execution_count": 11,
   "metadata": {},
   "outputs": [
    {
     "data": {
      "text/plain": [
       "array([1, 0])"
      ]
     },
     "execution_count": 11,
     "metadata": {},
     "output_type": "execute_result"
    }
   ],
   "source": [
    "np.arange(1,-1,-1)"
   ]
  },
  {
   "cell_type": "code",
   "execution_count": 16,
   "metadata": {},
   "outputs": [
    {
     "name": "stdout",
     "output_type": "stream",
     "text": [
      "DateTime\n",
      "2018-10-10 13:31:00    -55926.0\n",
      "2018-10-10 13:32:00    181061.0\n",
      "2018-10-10 13:33:00   -291483.0\n",
      "2018-10-10 13:34:00     11793.0\n",
      "2018-10-10 13:35:00    345996.0\n",
      "Freq: T, Name: TradedVolume, dtype: float64\n",
      "                     TradedVolume (t-1)  TradedVolume (t)\n",
      "DateTime                                                 \n",
      "2018-10-10 13:31:00                 0.0          -55926.0\n",
      "2018-10-10 13:32:00            -55926.0          181061.0\n",
      "2018-10-10 13:33:00            181061.0         -291483.0\n",
      "2018-10-10 13:34:00           -291483.0           11793.0\n",
      "2018-10-10 13:35:00             11793.0          345996.0\n",
      "[[      0.  -55926.]\n",
      " [ -55926.  181061.]\n",
      " [ 181061. -291483.]\n",
      " [-291483.   11793.]\n",
      " [  11793.  345996.]]\n"
     ]
    }
   ],
   "source": [
    "def timeseries_to_supervised(data, look_back=1):\n",
    "    df = pd.DataFrame(data).copy()\n",
    "    columns = []\n",
    "    for i in np.arange(look_back,-1,-1):\n",
    "        df_i = df.shift(i).copy()\n",
    "        df_i.columns = pd.Series(df_i.columns).map(lambda x: x+' (t-'+str(i)+')' if i>0 else x+' (t)' ).ravel()\n",
    "        columns.append(df_i)\n",
    "    df = pd.concat(columns, axis=1)\n",
    "    df.fillna(0, inplace=True)\n",
    "    return df\n",
    "\n",
    "look_back = 1\n",
    "supervised = timeseries_to_supervised(diff_series, look_back)\n",
    "supervised_values = supervised.values\n",
    "\n",
    "print(diff_series[:5])\n",
    "print(supervised[:5])\n",
    "print(supervised_values[:5])"
   ]
  },
  {
   "cell_type": "markdown",
   "metadata": {},
   "source": [
    "\n",
    "### Split the Data Into Training and Test Sets <a name=\"training\"></a>\n",
    "\n",
    "How much data should you use for training the model, and how much should you leave for testing?\n",
    "\n",
    "This is a trade-off:\n",
    " * The less data you use for training, the greater variance the parameter estimates will have. \n",
    " * The less data you use for testing, the greater variance the performance statistic will have.\n",
    " \n",
    "A rule of thumb is a 70%-to-30% split. \n",
    "\n",
    "**In the cell below, replace the entire placeholder text, starting with **#**, with *0.7* as the proportion of data to use for training:**\n",
    "\n",
    "<div style=\"text-align: right\"><a href=\"#toc\">Back to top</a></div>"
   ]
  },
  {
   "cell_type": "code",
   "execution_count": 14,
   "metadata": {},
   "outputs": [],
   "source": [
    "train_proportion = 0.7\n",
    "#Enter proportion of data to use for training:0.7"
   ]
  },
  {
   "cell_type": "code",
   "execution_count": 20,
   "metadata": {},
   "outputs": [
    {
     "name": "stdout",
     "output_type": "stream",
     "text": [
      "Number of observations (n_obs):  100\n",
      "Dimensionality/Numer of variates (D):  1\n",
      "(69, 2)\n",
      "[[      0.  -55926.]\n",
      " [ -55926.  181061.]\n",
      " [ 181061. -291483.]\n",
      " [-291483.   11793.]\n",
      " [  11793.  345996.]]\n",
      "(30, 2)\n",
      "[[ 417249. -427840.]\n",
      " [-427840.  239269.]\n",
      " [ 239269. -331098.]\n",
      " [-331098.  223164.]\n",
      " [ 223164. -260266.]]\n"
     ]
    }
   ],
   "source": [
    "n_obs, D = pd.DataFrame(series).shape\n",
    "print('Number of observations (n_obs): ', n_obs)\n",
    "print('Dimensionality/Numer of variates (D): ', D)\n",
    "\n",
    "train_size = int(n_obs*train_proportion)\n",
    "test_size = n_obs - train_size\n",
    "train, test = supervised_values[0:-test_size], supervised_values[-test_size:]\n",
    "print(train.shape)\n",
    "print(train[:5])\n",
    "print(test.shape)\n",
    "print(test[:5])"
   ]
  },
  {
   "cell_type": "markdown",
   "metadata": {},
   "source": [
    "### Scale & Format the Data for LSTM Input <a name=\"reshape\"></a>\n",
    "\n",
    "For better performance, reduce the standard deviation of the data by scaling it to be within the range [-1,1].\n",
    " \n",
    "<div style=\"text-align: right\"><a href=\"#toc\">Back to top</a></div>"
   ]
  },
  {
   "cell_type": "code",
   "execution_count": 21,
   "metadata": {},
   "outputs": [],
   "source": [
    "from sklearn.preprocessing import MinMaxScaler\n",
    "\n",
    "scaler = MinMaxScaler(feature_range=(-1, 1))\n",
    "scaler = scaler.fit(train)\n",
    "\n",
    "train_scaled = scaler.transform(train)\n",
    "test_scaled = scaler.transform(test)"
   ]
  },
  {
   "cell_type": "code",
   "execution_count": 22,
   "metadata": {},
   "outputs": [
    {
     "name": "stdout",
     "output_type": "stream",
     "text": [
      "[[-0.22913578 -0.3021816 ]\n",
      " [-0.3021816   0.00735082]\n",
      " [ 0.00735082 -0.60984628]\n",
      " [-0.60984628 -0.21373276]\n",
      " [-0.21373276  0.222775  ]]\n"
     ]
    }
   ],
   "source": [
    "print(train_scaled[:5])"
   ]
  },
  {
   "cell_type": "code",
   "execution_count": 23,
   "metadata": {},
   "outputs": [
    {
     "name": "stdout",
     "output_type": "stream",
     "text": [
      "[[ 0.31583966 -0.78794429]\n",
      " [-0.78794429  0.0833772 ]\n",
      " [ 0.0833772  -0.66158805]\n",
      " [-0.66158805  0.0623422 ]\n",
      " [ 0.0623422  -0.56907327]]\n"
     ]
    }
   ],
   "source": [
    "print(test_scaled[:5])"
   ]
  },
  {
   "cell_type": "markdown",
   "metadata": {},
   "source": [
    "#### LSTM format\n",
    "\n",
    "To format the data for LSTM input, first, separate the input from the output, $X$ from $Y$, in both the training and the test sets. Then, reshape the $X$ input to be $\\big($ `#Samples`, `#Timesteps` or the look_back, `#Features` $\\big)$ to be digestible for LSTM in-take."
   ]
  },
  {
   "cell_type": "code",
   "execution_count": 24,
   "metadata": {},
   "outputs": [
    {
     "data": {
      "text/plain": [
       "1"
      ]
     },
     "execution_count": 24,
     "metadata": {},
     "output_type": "execute_result"
    }
   ],
   "source": [
    "D"
   ]
  },
  {
   "cell_type": "code",
   "execution_count": 27,
   "metadata": {},
   "outputs": [
    {
     "name": "stdout",
     "output_type": "stream",
     "text": [
      "[[-0.22913578]\n",
      " [-0.3021816 ]\n",
      " [ 0.00735082]\n",
      " [-0.60984628]\n",
      " [-0.21373276]]\n",
      "[[[-0.22913578]]\n",
      "\n",
      " [[-0.3021816 ]]\n",
      "\n",
      " [[ 0.00735082]]\n",
      "\n",
      " [[-0.60984628]]\n",
      "\n",
      " [[-0.21373276]]]\n",
      "Matrix shape: (69, 1)\n",
      "LSTM shape: (69, 1, 1)\n"
     ]
    }
   ],
   "source": [
    "trainX, trainy = train_scaled[:, 0:-D], train_scaled[:, -D:]\n",
    "testX, testy = test_scaled[:, 0:-D], test_scaled[:, -D:]\n",
    "print(trainX[:5])\n",
    "\n",
    "trainX3d = trainX.reshape(trainX.shape[0], look_back, trainX.shape[1])\n",
    "testX3d = testX.reshape(testX.shape[0], look_back, testX.shape[1])\n",
    "print(trainX3d[:5])\n",
    "\n",
    "print('Matrix shape:', trainX.shape)\n",
    "print('LSTM shape:', trainX3d.shape)"
   ]
  },
  {
   "cell_type": "code",
   "execution_count": 28,
   "metadata": {},
   "outputs": [
    {
     "data": {
      "image/png": "[encoded data removed]",
      "text/plain": [
       "<Figure size 1080x360 with 1 Axes>"
      ]
     },
     "metadata": {},
     "output_type": "display_data"
    }
   ],
   "source": [
    "plt.style.use(['dark_background'])\n",
    "plt.figure(figsize=[15,5])\n",
    "plt.plot(trainy, color='deepskyblue');\n",
    "plt.axhline(y=0, color='darkgray')\n",
    "plt.xlabel('Order in Time' );\n",
    "plt.ylabel('Scaled $\\Delta$-Volume', color='deepskyblue');\n",
    "plt.title('The time-series after differencing and scaling');"
   ]
  },
  {
   "cell_type": "markdown",
   "metadata": {},
   "source": [
    "\n",
    "\n",
    "## Design the LSTM <a name=\"design\"></a>\n",
    "\n",
    "You will use the [Keras](https://keras.io/) [Chollet, 2015.] library to design your neural network (NN). \n",
    "\n",
    "* The `Sequential()` model allows you to organize the layers of your NN.\n",
    "* Add another linear layer using `.add()`. \n",
    "    * Add an `LSTM()` layer where you specify hyperparameters such as the number or `neurons` or units to have in the hidden layer, or the `batch size` with which to update the model, the $\\tanh$ `activation` function, etc.\n",
    "* Add a final `Dense()` layer to ensure the neural output matches the dimensionality of your $Y$.\n",
    "* With `.compile()`, specify which `loss function` to use. You want to minimize the Mean Squared Error (MSE), and in particular, minimize it by using a type of Stochastic Gradient Descent variant known as [Adam](https://arxiv.org/abs/1412.6980) [Kingma, 2015].\n",
    "\n",
    "<div style=\"text-align: right\"><a href=\"#toc\">Back to top</a></div>"
   ]
  },
  {
   "cell_type": "code",
   "execution_count": 29,
   "metadata": {},
   "outputs": [
    {
     "name": "stdout",
     "output_type": "stream",
     "text": [
      "1 1\n"
     ]
    }
   ],
   "source": [
    "print(trainX3d.shape[1], trainX3d.shape[2])"
   ]
  },
  {
   "cell_type": "code",
   "execution_count": null,
   "metadata": {},
   "outputs": [],
   "source": [
    "neurons = 4\n",
    "batch_size = 1 \n",
    "\n",
    "import warnings\n",
    "warnings.filterwarnings('ignore')\n",
    "from keras import models\n",
    "from keras import layers\n",
    "\n",
    "model = models.Sequential()\n",
    "model.add(layers.LSTM(neurons, batch_input_shape=(batch_size, trainX3d.shape[1], trainX3d.shape[2]), activation='tanh', stateful=True, name='Hidden'))\n",
    "model.add(layers.Dense(1, name='Final'))\n",
    "model.compile(loss='mean_squared_error', optimizer='adam')\n",
    "print(model.summary())"
   ]
  },
  {
   "cell_type": "markdown",
   "metadata": {},
   "source": [
    "## Fit an LSTM Network to Training Data <a name=\"fit\"></a>\n",
    "\n",
    "Now you are ready to train your NN model. Use `verbose=1` to track the behavior of the training and validation losses.\n",
    "\n",
    "An epoch is one complete pass through the training data into the algorithm. Use 30 passes of our training data.\n",
    "\n",
    "**In the cell below, replace the entire placeholder text, starting with **#**, with *30* as the number of epochs to use for fitting:**\n",
    "\n",
    "<div style=\"text-align: right\"><a href=\"#toc\">Back to top</a></div>"
   ]
  },
  {
   "cell_type": "code",
   "execution_count": null,
   "metadata": {},
   "outputs": [],
   "source": [
    "nb_epoch = 30\n",
    "#Enter the number of epochs:30"
   ]
  },
  {
   "cell_type": "code",
   "execution_count": null,
   "metadata": {},
   "outputs": [],
   "source": [
    "lstm_model = model.fit(trainX3d, trainy, validation_split=0.2, epochs=nb_epoch, batch_size=batch_size, verbose=1)\n"
   ]
  },
  {
   "cell_type": "code",
   "execution_count": null,
   "metadata": {},
   "outputs": [],
   "source": [
    "plt.figure(figsize=[10,3])\n",
    "plt.plot(lstm_model.history['loss'], label='Training', color='lightyellow')\n",
    "plt.plot(lstm_model.history['val_loss'], label='Validation', color='gold')\n",
    "plt.title('LSTM Model Loss')\n",
    "plt.ylabel('Loss')\n",
    "plt.xlabel('Epoch')\n",
    "l = plt.legend(fontsize=16)\n",
    "plt.show()"
   ]
  },
  {
   "cell_type": "markdown",
   "metadata": {},
   "source": [
    "## Predict the Test Data <a name=\"predict\"></a>\n",
    "\n",
    "Use your trained LSTM neural network to predict trading volumes one-step-ahead, for the remaining series:\n",
    "* Forecast the entire training dataset to build up state for forecasting\n",
    "* Forecast the entire test dataset\n",
    "* Invert the scaling \n",
    "* Revert the differencing \n",
    "\n",
    "Then you've arrived at your predictions in their proper units.\n",
    "\n",
    "<div style=\"text-align: right\"><a href=\"#toc\">Back to top</a></div>"
   ]
  },
  {
   "cell_type": "code",
   "execution_count": null,
   "metadata": {},
   "outputs": [],
   "source": [
    "model.predict(trainX3d, batch_size=batch_size)\n",
    "predictions_scaled = model.predict(testX3d, batch_size=1)\n",
    "\n",
    "predictions_unscaled = scaler.inverse_transform(np.matlib.repmat(predictions_scaled, 1, train.shape[1]))[:,-1]\n",
    "predictions = raw_values[train_size:] + predictions_unscaled"
   ]
  },
  {
   "cell_type": "code",
   "execution_count": null,
   "metadata": {},
   "outputs": [],
   "source": [
    "plt.figure(figsize=[15,5])\n",
    "plt.style.use(['dark_background'])\n",
    "plt.plot(raw_values, label=r'Actual $y$', color='deepskyblue')\n",
    "plt.plot(np.arange(train_size, n_obs), predictions, label=r'LSTM $\\hat{y}$', color='aqua')\n",
    "plt.axvline(x=train_size, color='red', linestyle=':')\n",
    "plt.text(train_size-1, 2500000, r'Training $\\leftarrow$', horizontalalignment='right')\n",
    "plt.text(train_size+1, 2500000, r'$\\rightarrow$ Test', horizontalalignment='left')\n",
    "plt.xlabel('Order in Time');\n",
    "plt.ylabel('Trade Volume', color='deepskyblue');\n",
    "plt.title('Forecasting Trading Volumes with an LSTM NN');\n",
    "plt.legend()\n",
    "plt.show()"
   ]
  },
  {
   "cell_type": "markdown",
   "metadata": {},
   "source": [
    "## Evaluate the LSTM Performance <a name=\"evaluate\"></a>\n",
    "\n",
    "The Root-Mean-Squared Error (RMSE) allows you to compare how accurate your forecasts were to the actual traded volumes. The lower the RMSE, the better - a value of 0 would indicate a perfect fit to the data. \n",
    "\n",
    "[//]: $$ \\rm{RMSE} = \\sqrt {\\frac {\\sum _{t=1}^T(\\hat{y}_t-y_t)^2}{T}} $$\n",
    "\n",
    "RMSE is dependent on the scale of the data being used. Dividing the RMSE by the range of the data, gives an average error as a proportion of the data's scale. This is called the **Normalized Root-Mean-Squared Error** (NRMSE).\n",
    "\n",
    "[//]: $$ \\mathrm{NRMSE} = \\frac{\\mathrm{RMSE}}{y_\\max -y_\\min} $$\n",
    "\n",
    "However, the RMSE and NRMSE are very sensitive to outliers. A robust version is the **Normalized Median Absolute Deviation** (NMAD).\n",
    "\n",
    "[//]: $$ \\mathrm{NMAD} = \\frac{\\rm{median}|\\hat{y}_t-y_t|}{y_\\max -y_\\min} $$\n",
    "\n",
    "<div style=\"text-align: right\"><a href=\"#toc\">Back to top</a></div>"
   ]
  },
  {
   "cell_type": "code",
   "execution_count": null,
   "metadata": {},
   "outputs": [],
   "source": [
    "from sklearn.metrics import mean_squared_error, median_absolute_error\n",
    "\n",
    "rmse = np.sqrt(mean_squared_error(raw_values[-test_size:], predictions))\n",
    "mad = median_absolute_error(raw_values[-test_size:], predictions)\n",
    "ymax = raw_values[-test_size:].max()\n",
    "ymin = raw_values[-test_size:].min()\n",
    "nrmse = rmse/(ymax - ymin)*100\n",
    "nmad = mad/(ymax - ymin)*100\n",
    "\n",
    "print('Normalized Root-Mean-Squared Error: %2.1f%%' %nrmse)\n",
    "print('Normalized Median Absolute Deviation: %2.1f%%' %nmad)"
   ]
  },
  {
   "cell_type": "markdown",
   "metadata": {},
   "source": [
    "___\n",
    "\n",
    "# BREAK\n",
    "\n",
    "Please pause here for a few minutes so we can come back together as a group to review important aspects of what you just accomplished in the above portion of this lab. The instructor will take approximately 5 minutes to review a few of these important aspects prior to you moving on to the challenge below. \n",
    "___\n",
    "\n",
    "\n",
    "## Lab 1 Challenge: Multivariate <a name=\"challenge\"></a>\n",
    "\n",
    "This section of the notebook is the lab challenge, wherein you'll get a chance to think more critically about the code that's being written. It builds on the material and code you just went through above. You use the same data source, the [Deutsche Börse Public Dataset](https://registry.opendata.aws/deutsche-boerse-pds/), but look specifically at the company DAIMLER (DAI) AG, the German automotive corporation of which Mercedes Benz is a subsidiary. \n",
    "\n",
    "Take the stock price of DAI at the start of the minute and the volume traded by the end of the minute, for the minutes between 1pm and 3pm on October 10, 2018. This problem becomes the prediction of two related time series - a multivariated forecasting problem. In this challenge, the plotting and light coding is handled for you, but where prompted `# To complete as challenge`, fill in the missing section with the code necessary to complete the LSTM solution.\n",
    "\n",
    "<div style=\"text-align: right\"><a href=\"#toc\">Back to top</a></div>"
   ]
  },
  {
   "cell_type": "code",
   "execution_count": null,
   "metadata": {},
   "outputs": [],
   "source": [
    "# Clear all environment variables from Lab 1 above\n",
    "%reset"
   ]
  },
  {
   "cell_type": "code",
   "execution_count": null,
   "metadata": {},
   "outputs": [],
   "source": [
    "import warnings\n",
    "warnings.filterwarnings('ignore')\n",
    "import pandas as pd\n",
    "csvList = ['s3://deutsche-boerse-xetra-pds/2018-10-10/2018-10-10_BINS_XETR13.csv',\n",
    "           's3://deutsche-boerse-xetra-pds/2018-10-10/2018-10-10_BINS_XETR14.csv',\n",
    "           's3://deutsche-boerse-xetra-pds/2018-10-10/2018-10-10_BINS_XETR15.csv']\n",
    "\n",
    "raw = pd.concat([pd.read_csv(f, error_bad_lines=False, warn_bad_lines=False) for f in csvList], ignore_index = True)\n",
    "\n",
    "dt = raw.iloc[0]['Date']\n",
    "raw.drop(raw.index[raw['Date']!=dt], inplace=True)\n",
    "raw['DateTime'] = pd.to_datetime(raw['Date'] + ' ' + raw['Time'])\n",
    "raw.set_index('DateTime', inplace=True)\n",
    "\n",
    "df = raw.loc[raw['Mnemonic']=='DAI'].loc['2018-10-10 13:00:00':'2018-10-10 15:00:00'].resample('min').mean()\n",
    "df.head(3)"
   ]
  },
  {
   "cell_type": "code",
   "execution_count": null,
   "metadata": {},
   "outputs": [],
   "source": [
    "series = df[['StartPrice','TradedVolume']]\n",
    "series['StartPrice'].fillna(method='ffill', inplace=True)\n",
    "series['TradedVolume'].fillna(0, inplace=True)\n",
    "\n",
    "import matplotlib as mpl\n",
    "from matplotlib import pyplot as plt\n",
    "import numpy as np\n",
    "from numpy import matlib\n",
    "%matplotlib inline\n",
    "plt.style.use(['dark_background'])\n",
    "mpl.rcParams['lines.linewidth'] = 2\n",
    "mpl.rcParams['font.size'] = 18\n",
    "mpl.rcParams['figure.figsize'] = [15,5]\n",
    "\n",
    "plt.figure(figsize=[15,5])\n",
    "plt.plot(series['StartPrice'].ravel(), label='StartPrice', color='plum')\n",
    "plt.ylabel('Stock Price at Start of Minute', color='plum' );\n",
    "plt.xlabel('Order in Time' );\n",
    "\n",
    "ax = plt.twinx()\n",
    "plt.plot(series['TradedVolume'].ravel(), label='TradedVolume', color='deepskyblue')\n",
    "plt.ylabel('Trade Volume', color='deepskyblue');\n",
    "plt.title('Visualize the data');"
   ]
  },
  {
   "cell_type": "markdown",
   "metadata": {},
   "source": [
    "## Data Pre-Processing \n",
    "\n",
    "* Now, take the consecutive differences of the data. \n",
    "* You need to use the `timeseries_to_supervised` function from this lab to reshape the data from a time series to supervised observations. \n"
   ]
  },
  {
   "cell_type": "code",
   "execution_count": null,
   "metadata": {},
   "outputs": [],
   "source": [
    "# Take the consecutive differences of the data\n",
    "raw_values = series.values\n",
    "diff_series = series.diff().fillna(0)\n",
    "\n",
    "\n",
    "# Use the timeseries_to_supervised function from Lab 1 to reshape data from a time series to supervised observations \n",
    "def timeseries_to_supervised(data, look_back=1):\n",
    "    df = pd.DataFrame(data).copy()\n",
    "    columns = []\n",
    "    for i in np.arange(look_back,-1,-1):\n",
    "        df_i = df.shift(i).copy()\n",
    "        df_i.columns = pd.Series(df_i.columns).map(lambda x: x+' (t-'+str(i)+')' if i>0 else x+' (t)' ).ravel()\n",
    "        columns.append(df_i)\n",
    "    df = pd.concat(columns, axis=1)\n",
    "    df.fillna(0, inplace=True)\n",
    "    return df\n",
    "\n",
    "\n",
    "#assert timeseries_to_supervised(diff_series)!='<To complete as challenge>', 'Challenge not completed'\n",
    "\n",
    "look_back = 1\n",
    "#supervised = '<To complete as challenge>' # To complete as challenge\n",
    "supervised = timeseries_to_supervised(diff_series, look_back)\n",
    "#assert supervised!='<To complete as challenge>', 'Challenge not completed'\n",
    "\n",
    "supervised_values = supervised.values\n",
    "supervised.head()\n",
    "\n"
   ]
  },
  {
   "cell_type": "markdown",
   "metadata": {},
   "source": [
    "Split the data into training and test sets."
   ]
  },
  {
   "cell_type": "code",
   "execution_count": null,
   "metadata": {},
   "outputs": [],
   "source": [
    "train_proportion = 0.7 \n",
    "n_obs = len(supervised_values)\n",
    "train_size = int(n_obs*train_proportion)\n",
    "test_size = n_obs - train_size\n",
    "train, test = supervised_values[0:-test_size], supervised_values[-test_size:]\n",
    "\n",
    "print('Training set:', train.shape)\n",
    "print('Test set:', test.shape)"
   ]
  },
  {
   "cell_type": "markdown",
   "metadata": {},
   "source": [
    "## Scale & Format the Data for LSTM Input\n",
    "\n",
    "* The `MinMaxScaler` is defined for you.\n",
    "\n",
    "You need to:\n",
    "* Fit the scaler to the training set.\n",
    "* Use the fitted scaler to transorm the training set.\n",
    "* Use the fitted scaler to transorm the test set."
   ]
  },
  {
   "cell_type": "code",
   "execution_count": null,
   "metadata": {},
   "outputs": [],
   "source": [
    "from sklearn.preprocessing import MinMaxScaler\n",
    "\n",
    "scaler = MinMaxScaler(feature_range=(-1, 1))\n",
    "#scaler = # To complete as challenge\n",
    "scaler = scaler.fit(train)\n",
    "\n",
    "#train_scaled = # To complete as challenge\n",
    "train_scaled = scaler.transform(train)\n",
    "\n",
    "#test_scaled = # To complete as challenge\n",
    "test_scaled = scaler.transform(test)"
   ]
  },
  {
   "cell_type": "markdown",
   "metadata": {},
   "source": [
    "* Define D as the dimensionality of your multivariate output.\n",
    "* Separate the input from the output, $X$ from $Y$, in both the training and the test sets.\n",
    "* Reshape the $X$ input to be (#Samples, #Timesteps or the look_back, #Features) and digestible for LSTM in-take."
   ]
  },
  {
   "cell_type": "code",
   "execution_count": null,
   "metadata": {},
   "outputs": [],
   "source": [
    "D = series.shape[1]\n",
    "\n",
    "trainX, trainy = train_scaled[:, 0:-D], train_scaled[:, -D:]\n",
    "testX, testy = test_scaled[:, 0:-D], test_scaled[:, -D:]\n",
    "\n",
    "#trainX3d = # To complete as challenge\n",
    "trainX3d = trainX.reshape(trainX.shape[0], look_back, trainX.shape[1])\n",
    "#testX3d = # To complete as challenge\n",
    "testX.reshape(testX.shape[0], look_back, testX.shape[1])\n",
    "\n",
    "print('Matrix shape:', trainX.shape)\n",
    "print('LSTM shape:', trainX3d.shape)"
   ]
  },
  {
   "cell_type": "markdown",
   "metadata": {},
   "source": [
    "Plot the scaled, differenced time series."
   ]
  },
  {
   "cell_type": "code",
   "execution_count": null,
   "metadata": {},
   "outputs": [],
   "source": [
    "plt.style.use(['dark_background'])\n",
    "plt.figure(figsize=[15,5])\n",
    "plt.plot(trainy[:,0], label='StartPrice', color='plum');\n",
    "plt.plot(trainy[:,1], label='TradedVolume', color='deepskyblue');\n",
    "\n",
    "plt.axhline(y=0, color='darkgray')\n",
    "plt.xlabel('Order in Time' );\n",
    "plt.ylabel('Scaled $\\Delta$ y\\'s' );\n",
    "plt.title('The time-series after differencing and scaling');"
   ]
  },
  {
   "cell_type": "markdown",
   "metadata": {},
   "source": [
    "## Design the LSTM \n",
    "\n",
    "* Instantiate the keras model with `Sequential()` to allow you to organize the layers of your neural network.\n",
    "* You need to specify your `LSTM` layer and add it to the model.\n",
    " * You need to specify the number of `neurons`. \n",
    "  * It's recommended to use a value greater than 3 and less than 10 for this specific challenge to achieve a good trade-off between model accuracy and training time.\n",
    " * You need to specify the `batch_size`. (1 is recommended for this data size.) \n",
    " * You should specify the `activation` function.\n",
    " * You can specify a string `name` for this layer, such as 'Hidden LSTM 1'.\n",
    "* You can add more than one LSTM layer, if you're feeling ambitious for this challenge.\n",
    "* You need to specify the final `Dense()` layer with output to have the same dimensionality of our $Y$.\n",
    "* You need to specify the `.compile()` call of the model with the loss function to use. \n",
    " * It is recommended to use the `mean_squared_error` loss, and the `adam` variant of Stochastic Gradient Descent optimization."
   ]
  },
  {
   "cell_type": "code",
   "execution_count": null,
   "metadata": {},
   "outputs": [],
   "source": [
    "from keras import models\n",
    "from keras import layers\n",
    "\n",
    "model = models.Sequential()\n",
    "\n",
    "neurons = 4\n",
    "batch_size = 1 \n",
    "#model.add( # To complete as challenge ) \n",
    "model.add(layers.LSTM(neurons, batch_input_shape=(batch_size, trainX3d.shape[1], trainX3d.shape[2]), activation='tanh', stateful=True, name='Hidden'))\n",
    "\n",
    "\n",
    "#model.add( # To complete as challenge )\n",
    "model.add(layers.Dense(D, name='Final'))\n",
    "\n",
    "#model.compile( # To complete as challenge )\n",
    "model.compile(loss='mean_squared_error', optimizer='adam')\n",
    "print(model.summary())"
   ]
  },
  {
   "cell_type": "markdown",
   "metadata": {},
   "source": [
    "## Fit an LSTM Network to Training Data \n",
    "* Specify 30 epochs and a 20% validation hold-out.\n",
    "* Plot the training loss and the validation loss at each epoch of fitting the neural network."
   ]
  },
  {
   "cell_type": "code",
   "execution_count": null,
   "metadata": {},
   "outputs": [],
   "source": [
    "nb_epoch = 30\n",
    "lstm_model = model.fit(trainX3d, trainy, validation_split=0.2, epochs=nb_epoch, batch_size=batch_size, verbose=1)\n"
   ]
  },
  {
   "cell_type": "code",
   "execution_count": null,
   "metadata": {},
   "outputs": [],
   "source": [
    "plt.figure(figsize=[10,3])\n",
    "plt.plot(lstm_model.history['loss'], label='Training', color='lightyellow')\n",
    "plt.plot(lstm_model.history['val_loss'], label='Validation', color='gold')\n",
    "plt.title('LSTM Model Loss')\n",
    "plt.ylabel('Loss')\n",
    "plt.xlabel('Epoch')\n",
    "l = plt.legend(fontsize=16)\n",
    "plt.show()"
   ]
  },
  {
   "cell_type": "markdown",
   "metadata": {},
   "source": [
    "## Predict the Test Data \n",
    "\n",
    "Use your trained LSTM neural network to predict the next minute's Starting Stock Price and its Trading Volume.\n",
    "* Handle the inversion of the scaling and the reversal of the differencing as well.\n",
    "* Plot the results of your LSTM below."
   ]
  },
  {
   "cell_type": "code",
   "execution_count": null,
   "metadata": {},
   "outputs": [],
   "source": [
    "model.predict(trainX3d, batch_size=batch_size)\n",
    "predictions_scaled = model.predict(testX3d, batch_size=1)\n",
    "\n",
    "predictions_unscaled = scaler.inverse_transform(np.matlib.repmat(predictions_scaled, 1, int(train.shape[1]/D)) )[:,-D:]\n",
    "predictions = raw_values[train_size:-1] + predictions_unscaled[:-1]"
   ]
  },
  {
   "cell_type": "code",
   "execution_count": null,
   "metadata": {
    "scrolled": false
   },
   "outputs": [],
   "source": [
    "import seaborn as sns\n",
    "plt.figure(figsize=[15,5])\n",
    "sns.set_style(\"dark\")\n",
    "plt.style.use(['dark_background'])\n",
    "plt.plot(raw_values[:,0], label=r'Actual $y$', color='plum')\n",
    "plt.plot(np.arange(train_size, n_obs-1), predictions[:,0], label=r'LSTM $\\hat{y}$', color='magenta')\n",
    "plt.axvline(x=train_size, color='red', linestyle=':')\n",
    "plt.text(train_size-10, 54.2, r'Training', horizontalalignment='right')\n",
    "plt.text(train_size+7, 54.2, r'Test', horizontalalignment='left')\n",
    "plt.xlabel('Order in Time' );\n",
    "plt.ylabel('Start Price (EUR)', color='plum');\n",
    "\n",
    "ax = plt.twinx()\n",
    "plt.plot(raw_values[:,1], label=r'Actual $y$', color='deepskyblue')\n",
    "plt.plot(np.arange(train_size, n_obs-1), predictions[:,1], label=r'LSTM $\\hat{y}$', color='aqua')\n",
    "plt.ylabel('Trade Volume', color='deepskyblue');\n",
    "plt.title('Forecasting Multiple Time-Series with an LSTM-NN');\n",
    "plt.show()"
   ]
  },
  {
   "cell_type": "code",
   "execution_count": null,
   "metadata": {},
   "outputs": [],
   "source": [
    "from sklearn.metrics import mean_squared_error, median_absolute_error\n",
    "\n",
    "for d in range(D):\n",
    "    rmse = np.sqrt(mean_squared_error(raw_values[-test_size+1:,d], predictions[:,d]))\n",
    "    mad = median_absolute_error(raw_values[-test_size+1:,d], predictions[:,d])\n",
    "    ymax = raw_values[-test_size+1:,d].max()\n",
    "    ymin = raw_values[-test_size+1:,d].min()\n",
    "    nrmse = rmse/(ymax - ymin)*100\n",
    "    nmad = mad/(ymax - ymin)*100\n",
    "\n",
    "    print('Dimension %i, Normalized Root-Mean-Squared Error: %2.1f%%' %(d, nrmse))\n",
    "    print('Dimension %i, Normalized Median Absolute Deviation: %2.1f%%' %(d, nmad))\n",
    "    print('')"
   ]
  },
  {
   "cell_type": "markdown",
   "metadata": {},
   "source": [
    "## Lab Complete\n",
    "\n",
    "Congratulations! You have completed this lab. If you want to review the Solutions to the Lab Challenges see the next section of this notebook before ending this lab. \n",
    "\n",
    "<div style=\\\"text-align: right\\\"><b>END OF LAB</b></div>"
   ]
  },
  {
   "cell_type": "markdown",
   "metadata": {},
   "source": [
    "## Solutions to Lab Challenges <a name=\"solution\"></a>\n",
    "\n",
    "Below are the solutions to each of the challenges you encountered above. They are identified by the corresponding section titles. \n",
    "\n",
    "### Data Pre-Processing \n",
    "* **Solution:**  \n",
    "```python\n",
    "def timeseries_to_supervised(data, look_back=1):\n",
    "    df = pd.DataFrame(data).copy()\n",
    "    columns = []\n",
    "    for i in np.arange(look_back,-1,-1):\n",
    "        df_i = df.shift(i).copy()\n",
    "        df_i.columns = pd.Series(df_i.columns).map(lambda x: x+' (t-'+str(i)+')' if i>0 else x+' (t)' ).ravel()\n",
    "        columns.append(df_i)\n",
    "    df = pd.concat(columns, axis=1)\n",
    "    df.fillna(0, inplace=True)\n",
    "    return df\n",
    "```\n",
    "* **Solution:** \n",
    "```python\n",
    "supervised = timeseries_to_supervised(diff_series, look_back)\n",
    "```\n",
    "\n",
    "### Scale and Format the Data for LSTM Input \n",
    "* **Solution:** \n",
    "```python\n",
    "scaler = scaler.fit(train)\n",
    "```\n",
    "* **Solution:** \n",
    "```python\n",
    "train_scaled = scaler.transform(train)\n",
    "```\n",
    "* **Solution:** \n",
    "```python\n",
    "test_scaled = scaler.transform(test)\n",
    "``` \n",
    "* **Solution:** \n",
    "```python\n",
    "trainX3d = trainX.reshape(trainX.shape[0], look_back, trainX.shape[1])\n",
    "``` \n",
    "* **Solution:** \n",
    "```python\n",
    "testX.reshape(testX.shape[0], look_back, testX.shape[1])\n",
    "``` \n",
    "\n",
    "### Design the LSTM \n",
    "* **Solution:** \n",
    "```python\n",
    "model.add(layers.LSTM(neurons, batch_input_shape=(batch_size, trainX3d.shape[1], trainX3d.shape[2]), activation='tanh', stateful=True, name='Hidden'))\n",
    "```\n",
    "* **Solution:** \n",
    "```python\n",
    "model.add(layers.Dense(D, name='Final'))\n",
    "``` \n",
    "* **Solution:** \n",
    "```python\n",
    "model.compile(loss='mean_squared_error', optimizer='adam')\n",
    "```\n",
    "\n",
    "<div style=\"text-align: right\"><a href=\"#toc\">Back to top</a></div>"
   ]
  }
 ],
 "metadata": {
  "kernelspec": {
   "display_name": "Python 3",
   "language": "python",
   "name": "python3"
  },
  "language_info": {
   "codemirror_mode": {
    "name": "ipython",
    "version": 3
   },
   "file_extension": ".py",
   "mimetype": "text/x-python",
   "name": "python",
   "nbconvert_exporter": "python",
   "pygments_lexer": "ipython3",
   "version": "3.7.3"
  }
 },
 "nbformat": 4,
 "nbformat_minor": 2
}
