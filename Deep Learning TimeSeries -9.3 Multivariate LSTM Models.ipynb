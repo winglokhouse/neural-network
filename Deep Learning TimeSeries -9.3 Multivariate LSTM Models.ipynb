{
 "cells": [
  {
   "cell_type": "code",
   "execution_count": 1,
   "metadata": {},
   "outputs": [
    {
     "name": "stderr",
     "output_type": "stream",
     "text": [
      "Using TensorFlow backend.\n"
     ]
    }
   ],
   "source": [
    "import numpy as np\n",
    "from keras.models import Sequential\n",
    "from keras.layers import LSTM\n",
    "from keras.layers import Bidirectional\n",
    "from keras.layers import Dense\n",
    "from keras.layers import TimeDistributed\n",
    "from keras.layers import Flatten\n",
    "from keras.layers import ConvLSTM2D\n",
    "from keras.layers import RepeatVector\n",
    "from keras.layers.convolutional import Conv1D\n",
    "from keras.layers.convolutional import MaxPooling1D\n",
    "\n",
    "## visualize model\n",
    "from keras.utils.vis_utils import plot_model"
   ]
  },
  {
   "cell_type": "markdown",
   "metadata": {},
   "source": [
    "## Data Set"
   ]
  },
  {
   "cell_type": "code",
   "execution_count": 2,
   "metadata": {},
   "outputs": [
    {
     "name": "stdout",
     "output_type": "stream",
     "text": [
      "[ 25  45  65  85 105 125 145 165 185]\n",
      "[[ 10  15  25]\n",
      " [ 20  25  45]\n",
      " [ 30  35  65]\n",
      " [ 40  45  85]\n",
      " [ 50  55 105]\n",
      " [ 60  65 125]\n",
      " [ 70  75 145]\n",
      " [ 80  85 165]\n",
      " [ 90  95 185]]\n"
     ]
    }
   ],
   "source": [
    "in_seq1 = np.arange(10, 100, 10)\n",
    "in_seq2 = np.arange(15, 105, 10)\n",
    "out_seq = in_seq1 + in_seq2\n",
    "print(out_seq)\n",
    "in_seq1 = in_seq1.reshape(in_seq1.shape[0], 1)\n",
    "in_seq2 = in_seq2.reshape(in_seq2.shape[0], 1)\n",
    "out_seq = out_seq.reshape(out_seq.shape[0], 1)\n",
    "dataset = np.hstack((in_seq1, in_seq2, out_seq))\n",
    "print(dataset)"
   ]
  },
  {
   "cell_type": "code",
   "execution_count": 3,
   "metadata": {},
   "outputs": [
    {
     "name": "stdout",
     "output_type": "stream",
     "text": [
      "[[10 15]\n",
      " [20 25]\n",
      " [30 35]] 65\n",
      "[[20 25]\n",
      " [30 35]\n",
      " [40 45]] 85\n",
      "[[30 35]\n",
      " [40 45]\n",
      " [50 55]] 105\n",
      "[[40 45]\n",
      " [50 55]\n",
      " [60 65]] 125\n",
      "[[50 55]\n",
      " [60 65]\n",
      " [70 75]] 145\n",
      "[[60 65]\n",
      " [70 75]\n",
      " [80 85]] 165\n",
      "[[70 75]\n",
      " [80 85]\n",
      " [90 95]] 185\n"
     ]
    }
   ],
   "source": [
    "#\n",
    "n_step = 3\n",
    "pred_step = 1\n",
    "def split_sequence(series, n_step, pred_step):\n",
    "    x_list, y_list = [], [] \n",
    "    for s in range(series.shape[0]-(n_step-1)):\n",
    "        x_list.append(series[s:s+n_step, :2]),\n",
    "        y_list.append(series[s+n_step-1, -1])\n",
    "    X, y = np.array(x_list), np.array(y_list)\n",
    "    return X, y\n",
    "#\n",
    "X, y = split_sequence(dataset, n_step, pred_step)\n",
    "for i in range(X.shape[0]):\n",
    "    print(X[i], y[i])"
   ]
  },
  {
   "cell_type": "markdown",
   "metadata": {},
   "source": [
    "## Vanilla LSTM"
   ]
  },
  {
   "cell_type": "markdown",
   "metadata": {},
   "source": [
    "- We will use a Vanilla LSTM where \n",
    "  - the number of time steps and \n",
    "  - parallel series (features) are specified for the input layer via the input shape argument\n",
    "- When making a prediction, the model expects three time steps for two input time series.\n",
    "- We can predict the next value in the output series providing the input values of:"
   ]
  },
  {
   "cell_type": "code",
   "execution_count": 4,
   "metadata": {},
   "outputs": [
    {
     "data": {
      "text/plain": [
       "(7, 3, 2)"
      ]
     },
     "execution_count": 4,
     "metadata": {},
     "output_type": "execute_result"
    }
   ],
   "source": [
    "X.shape"
   ]
  },
  {
   "cell_type": "code",
   "execution_count": 5,
   "metadata": {},
   "outputs": [
    {
     "name": "stdout",
     "output_type": "stream",
     "text": [
      "WARNING:tensorflow:From /opt/miniconda3/envs/conda_env/lib/python3.7/site-packages/tensorflow/python/framework/op_def_library.py:263: colocate_with (from tensorflow.python.framework.ops) is deprecated and will be removed in a future version.\n",
      "Instructions for updating:\n",
      "Colocations handled automatically by placer.\n",
      "WARNING:tensorflow:From /opt/miniconda3/envs/conda_env/lib/python3.7/site-packages/tensorflow/python/ops/math_ops.py:3066: to_int32 (from tensorflow.python.ops.math_ops) is deprecated and will be removed in a future version.\n",
      "Instructions for updating:\n",
      "Use tf.cast instead.\n"
     ]
    },
    {
     "data": {
      "text/plain": [
       "<keras.callbacks.History at 0x7cf425287a20>"
      ]
     },
     "execution_count": 5,
     "metadata": {},
     "output_type": "execute_result"
    }
   ],
   "source": [
    "n_steps = 3\n",
    "n_features = 2\n",
    "#\n",
    "model = Sequential()\n",
    "model.add(LSTM(50, activation='relu', input_shape=(n_steps, n_features)))\n",
    "model.add(Dense(1))\n",
    "model.compile(optimizer='adam', loss='mse')\n",
    "#\n",
    "model.fit(X, y, epochs=200, verbose=0)"
   ]
  },
  {
   "cell_type": "code",
   "execution_count": 6,
   "metadata": {},
   "outputs": [
    {
     "name": "stdout",
     "output_type": "stream",
     "text": [
      "[[207.48567]]\n"
     ]
    }
   ],
   "source": [
    "x_test = np.array([[80, 85], [90, 95], [100, 105]])\n",
    "x_test_lstm = x_test.reshape(1, n_steps, n_features)\n",
    "yhat = model.predict(x_test_lstm)\n",
    "print(yhat)"
   ]
  },
  {
   "cell_type": "markdown",
   "metadata": {},
   "source": [
    "## 9.3.2 Multiple Parallel Series"
   ]
  },
  {
   "cell_type": "code",
   "execution_count": 7,
   "metadata": {},
   "outputs": [
    {
     "name": "stdout",
     "output_type": "stream",
     "text": [
      "[[ 10  15  25]\n",
      " [ 20  25  45]\n",
      " [ 30  35  65]\n",
      " [ 40  45  85]\n",
      " [ 50  55 105]\n",
      " [ 60  65 125]\n",
      " [ 70  75 145]\n",
      " [ 80  85 165]\n",
      " [ 90  95 185]]\n"
     ]
    }
   ],
   "source": [
    "print(dataset)"
   ]
  },
  {
   "cell_type": "code",
   "execution_count": 8,
   "metadata": {},
   "outputs": [
    {
     "name": "stdout",
     "output_type": "stream",
     "text": [
      "[[10 15 25]\n",
      " [20 25 45]\n",
      " [30 35 65]] [40 45 85]\n",
      "[[20 25 45]\n",
      " [30 35 65]\n",
      " [40 45 85]] [ 50  55 105]\n",
      "[[ 30  35  65]\n",
      " [ 40  45  85]\n",
      " [ 50  55 105]] [ 60  65 125]\n",
      "[[ 40  45  85]\n",
      " [ 50  55 105]\n",
      " [ 60  65 125]] [ 70  75 145]\n",
      "[[ 50  55 105]\n",
      " [ 60  65 125]\n",
      " [ 70  75 145]] [ 80  85 165]\n",
      "[[ 60  65 125]\n",
      " [ 70  75 145]\n",
      " [ 80  85 165]] [ 90  95 185]\n"
     ]
    }
   ],
   "source": [
    "#\n",
    "n_steps = 3\n",
    "pred_step = 1\n",
    "def split_sequence(series, n_step, pred_step):\n",
    "    x_list, y_list = [], [] \n",
    "    for s in range(series.shape[0]-(n_step+pred_step-1)):\n",
    "        x_list.append(series[s:s+n_step]),\n",
    "        y_list.append(series[s+n_step])\n",
    "    X, y = np.array(x_list), np.array(y_list)\n",
    "    return X, y\n",
    "#\n",
    "X_para, y_para = split_sequence(dataset, n_steps, pred_step)\n",
    "for i in range(X_para.shape[0]):\n",
    "    print(X_para[i], y_para[i])"
   ]
  },
  {
   "cell_type": "code",
   "execution_count": 9,
   "metadata": {},
   "outputs": [
    {
     "name": "stdout",
     "output_type": "stream",
     "text": [
      "(6, 3, 3) (6, 3)\n"
     ]
    }
   ],
   "source": [
    "print(X_para.shape, y_para.shape)"
   ]
  },
  {
   "cell_type": "code",
   "execution_count": 10,
   "metadata": {},
   "outputs": [
    {
     "name": "stdout",
     "output_type": "stream",
     "text": [
      "3 3\n"
     ]
    },
    {
     "data": {
      "text/plain": [
       "<keras.callbacks.History at 0x7cf41c203a58>"
      ]
     },
     "execution_count": 10,
     "metadata": {},
     "output_type": "execute_result"
    }
   ],
   "source": [
    "# define model\n",
    "n_features = X_para.shape[2]\n",
    "print(n_steps, n_features)\n",
    "#\n",
    "model_para = Sequential()\n",
    "model_para.add(LSTM(100, activation='relu', return_sequences=True, input_shape=(n_steps, n_features)))\n",
    "model_para.add(LSTM(100, activation='relu'))\n",
    "model_para.add(Dense(n_features))\n",
    "model_para.compile(optimizer='adam', loss='mse')\n",
    "model_para.fit(X_para, y_para, epochs=200, verbose=0)"
   ]
  },
  {
   "cell_type": "code",
   "execution_count": 13,
   "metadata": {},
   "outputs": [
    {
     "name": "stdout",
     "output_type": "stream",
     "text": [
      "(3, 3)\n",
      "[[[ 70  75 145]\n",
      "  [ 80  85 165]\n",
      "  [ 90  95 185]]]\n"
     ]
    }
   ],
   "source": [
    "x_test_para = np.array([[70, 75, 145], [80, 85, 165], [90, 95, 185]])\n",
    "print(x_test_para.shape)\n",
    "x_test_para_lstm = x_test_para.reshape(1, n_steps, n_features)\n",
    "print(x_test_para_lstm)"
   ]
  },
  {
   "cell_type": "code",
   "execution_count": 14,
   "metadata": {},
   "outputs": [
    {
     "name": "stdout",
     "output_type": "stream",
     "text": [
      "[[100.50127 105.33746 203.69699]]\n"
     ]
    }
   ],
   "source": [
    "yhat_para = model_para.predict(x_test_para_lstm)\n",
    "print(yhat_para)### vanilla LSTM model"
   ]
  },
  {
   "cell_type": "code",
   "execution_count": 15,
   "metadata": {},
   "outputs": [],
   "source": [
    "plot_model(model_para, to_file='9_3_2_lstm.png', show_shapes=True, show_layer_names=True)"
   ]
  },
  {
   "cell_type": "markdown",
   "metadata": {},
   "source": [
    "### Stacked LSTM model from Parallel series\n",
    "<img src=\"./9_3_2_lstm.png\" alt=\"Drawing\" style=\"width: 600px;\"/>"
   ]
  },
  {
   "cell_type": "markdown",
   "metadata": {},
   "source": [
    "## 9.4 Multi-step LSTM Models"
   ]
  },
  {
   "cell_type": "code",
   "execution_count": 16,
   "metadata": {},
   "outputs": [
    {
     "name": "stdout",
     "output_type": "stream",
     "text": [
      "[10 20 30 40 50 60 70 80 90]\n"
     ]
    }
   ],
   "source": [
    "dataset_cont = np.arange(10, 100, 10)\n",
    "print(dataset_cont)"
   ]
  },
  {
   "cell_type": "code",
   "execution_count": 17,
   "metadata": {},
   "outputs": [
    {
     "name": "stdout",
     "output_type": "stream",
     "text": [
      "[10 20 30] [40 50]\n",
      "[20 30 40] [50 60]\n",
      "[30 40 50] [60 70]\n",
      "[40 50 60] [70 80]\n",
      "[50 60 70] [80 90]\n"
     ]
    }
   ],
   "source": [
    "#\n",
    "n_steps = 3\n",
    "pred_step = 2\n",
    "def split_sequence(series, n_step, pred_step):\n",
    "    x_list, y_list = [], [] \n",
    "    for s in range(series.shape[0]-(n_step+pred_step-1)):\n",
    "        x_list.append(series[s:s+n_step]),\n",
    "        y_list.append(series[s+n_step:s+n_step+pred_step])\n",
    "    X, y = np.array(x_list), np.array(y_list)\n",
    "    return X, y\n",
    "#\n",
    "X, y = split_sequence(dataset_cont, n_step, pred_step)\n",
    "for i in range(X.shape[0]):\n",
    "    print(X[i], y[i])"
   ]
  },
  {
   "cell_type": "markdown",
   "metadata": {},
   "source": [
    "### 9.4.2 Vector Output Model"
   ]
  },
  {
   "cell_type": "markdown",
   "metadata": {},
   "source": [
    "- The LSTM expects data to have a three-dimensional structure of [samples, timesteps, features], and in this case, we only have one feature so the reshape is straightforward"
   ]
  },
  {
   "cell_type": "code",
   "execution_count": 18,
   "metadata": {},
   "outputs": [
    {
     "name": "stdout",
     "output_type": "stream",
     "text": [
      "(5, 3, 1)\n"
     ]
    }
   ],
   "source": [
    "n_features = 1\n",
    "X_mstep = X.reshape(X.shape[0], n_steps, n_features)\n",
    "print(X_mstep.shape)"
   ]
  },
  {
   "cell_type": "code",
   "execution_count": 19,
   "metadata": {},
   "outputs": [
    {
     "data": {
      "text/plain": [
       "<keras.callbacks.History at 0x7cf3c0487ef0>"
      ]
     },
     "execution_count": 19,
     "metadata": {},
     "output_type": "execute_result"
    }
   ],
   "source": [
    "# define model\n",
    "model_mstep_vector = Sequential()\n",
    "model_mstep_vector.add(LSTM(100, activation='relu', return_sequences=True, input_shape=(n_steps, n_features)))\n",
    "model_mstep_vector.add(LSTM(100, activation='relu'))\n",
    "model_mstep_vector.add(Dense(pred_step))\n",
    "model_mstep_vector.compile(optimizer='adam', loss='mse')\n",
    "#\n",
    "model_mstep_vector.fit(X_mstep, y, epochs=50, verbose=0)"
   ]
  },
  {
   "cell_type": "code",
   "execution_count": 20,
   "metadata": {},
   "outputs": [
    {
     "name": "stdout",
     "output_type": "stream",
     "text": [
      "[[[50]\n",
      "  [60]\n",
      "  [70]]]\n",
      "[[77.71273 88.14805]]\n"
     ]
    }
   ],
   "source": [
    "x_test_mstep = np.array([50, 60, 70])\n",
    "x_test_mstep_vector = x_test_mstep.reshape(1, n_steps, n_features)\n",
    "print(x_test_mstep_vector)\n",
    "yhat_mstep_vector = model_mstep_vector.predict(x_test_mstep_vector)\n",
    "print(yhat_mstep_vector)"
   ]
  },
  {
   "cell_type": "markdown",
   "metadata": {},
   "source": [
    "### 9.4.3 Encoder-Decoder Model"
   ]
  },
  {
   "cell_type": "code",
   "execution_count": 21,
   "metadata": {},
   "outputs": [
    {
     "name": "stdout",
     "output_type": "stream",
     "text": [
      "[[[10]\n",
      "  [20]\n",
      "  [30]]\n",
      "\n",
      " [[20]\n",
      "  [30]\n",
      "  [40]]\n",
      "\n",
      " [[30]\n",
      "  [40]\n",
      "  [50]]\n",
      "\n",
      " [[40]\n",
      "  [50]\n",
      "  [60]]\n",
      "\n",
      " [[50]\n",
      "  [60]\n",
      "  [70]]]\n"
     ]
    }
   ],
   "source": [
    "print(X_mstep)"
   ]
  },
  {
   "cell_type": "code",
   "execution_count": 22,
   "metadata": {},
   "outputs": [],
   "source": [
    "# define encoder model \n",
    "model_endec = Sequential()\n",
    "model_endec.add(LSTM(100, activation='relu' , input_shape=(n_steps, n_features)))\n",
    "# repeat encoding\n",
    "model_endec.add(RepeatVector(pred_step))\n",
    "# define decoder model \n",
    "model_endec.add(LSTM(100, activation='relu' , return_sequences=True))\n",
    "# define model output\n",
    "model_endec.add(TimeDistributed(Dense(1)))\n",
    "#\n",
    "model_endec.compile(optimizer='adam', loss='mse')\n",
    "#"
   ]
  },
  {
   "cell_type": "code",
   "execution_count": 23,
   "metadata": {},
   "outputs": [
    {
     "name": "stdout",
     "output_type": "stream",
     "text": [
      "[[40 50]\n",
      " [50 60]\n",
      " [60 70]\n",
      " [70 80]\n",
      " [80 90]]\n"
     ]
    }
   ],
   "source": [
    "print(y)"
   ]
  },
  {
   "cell_type": "code",
   "execution_count": 24,
   "metadata": {},
   "outputs": [
    {
     "name": "stdout",
     "output_type": "stream",
     "text": [
      "[[[40]\n",
      "  [50]]\n",
      "\n",
      " [[50]\n",
      "  [60]]\n",
      "\n",
      " [[60]\n",
      "  [70]]\n",
      "\n",
      " [[70]\n",
      "  [80]]\n",
      "\n",
      " [[80]\n",
      "  [90]]]\n"
     ]
    }
   ],
   "source": [
    "y_mstep = y.reshape(y.shape[0], y.shape[1], n_features)\n",
    "print(y_mstep)"
   ]
  },
  {
   "cell_type": "code",
   "execution_count": 25,
   "metadata": {},
   "outputs": [
    {
     "data": {
      "text/plain": [
       "<keras.callbacks.History at 0x7cf3aa879908>"
      ]
     },
     "execution_count": 25,
     "metadata": {},
     "output_type": "execute_result"
    }
   ],
   "source": [
    "# fit model \n",
    "model_endec.fit(X_mstep, y_mstep, epochs=100, verbose=0)"
   ]
  },
  {
   "cell_type": "code",
   "execution_count": 26,
   "metadata": {},
   "outputs": [
    {
     "name": "stdout",
     "output_type": "stream",
     "text": [
      "[50 60 70]\n"
     ]
    }
   ],
   "source": [
    "print(x_test_mstep)"
   ]
  },
  {
   "cell_type": "code",
   "execution_count": 27,
   "metadata": {},
   "outputs": [
    {
     "name": "stdout",
     "output_type": "stream",
     "text": [
      "[[[80.068245]\n",
      "  [90.14806 ]]]\n"
     ]
    }
   ],
   "source": [
    "x_test_mstep_endec = x_test_mstep.reshape(1, n_steps, n_features)\n",
    "yhat_endec = model_endec.predict(x_test_mstep_endec)\n",
    "print(yhat_endec)"
   ]
  },
  {
   "cell_type": "markdown",
   "metadata": {},
   "source": [
    "## 9.5.1 Multiple Input Multi-step Output"
   ]
  },
  {
   "cell_type": "code",
   "execution_count": 28,
   "metadata": {},
   "outputs": [
    {
     "name": "stdout",
     "output_type": "stream",
     "text": [
      "[[ 10  15  25]\n",
      " [ 20  25  45]\n",
      " [ 30  35  65]\n",
      " [ 40  45  85]\n",
      " [ 50  55 105]\n",
      " [ 60  65 125]\n",
      " [ 70  75 145]\n",
      " [ 80  85 165]\n",
      " [ 90  95 185]]\n"
     ]
    }
   ],
   "source": [
    "print(dataset)"
   ]
  },
  {
   "cell_type": "code",
   "execution_count": 29,
   "metadata": {},
   "outputs": [
    {
     "name": "stdout",
     "output_type": "stream",
     "text": [
      "[[10 15]\n",
      " [20 25]\n",
      " [30 35]] [65 85]\n",
      "[[20 25]\n",
      " [30 35]\n",
      " [40 45]] [ 85 105]\n",
      "[[30 35]\n",
      " [40 45]\n",
      " [50 55]] [105 125]\n",
      "[[40 45]\n",
      " [50 55]\n",
      " [60 65]] [125 145]\n",
      "[[50 55]\n",
      " [60 65]\n",
      " [70 75]] [145 165]\n",
      "[[60 65]\n",
      " [70 75]\n",
      " [80 85]] [165 185]\n"
     ]
    }
   ],
   "source": [
    "#\n",
    "n_step = 3\n",
    "pred_step = 2\n",
    "def split_sequence(series, n_step, pred_step):\n",
    "    x_list, y_list = [], [] \n",
    "    for s in range(series.shape[0]-(n_step+pred_step-2)):\n",
    "        x_list.append(series[s:s+n_step, :2]),\n",
    "        y_list.append(series[s+n_step-1:s+n_step-1+pred_step, -1])\n",
    "    X, y = np.array(x_list), np.array(y_list)\n",
    "    return X, y\n",
    "#\n",
    "X, y = split_sequence(dataset, n_step, pred_step)\n",
    "for i in range(X.shape[0]):\n",
    "    print(X[i], y[i])"
   ]
  },
  {
   "cell_type": "code",
   "execution_count": 30,
   "metadata": {},
   "outputs": [
    {
     "name": "stdout",
     "output_type": "stream",
     "text": [
      "2\n"
     ]
    }
   ],
   "source": [
    "n_feature = X.shape[2]\n",
    "print(n_feature)"
   ]
  },
  {
   "cell_type": "code",
   "execution_count": 31,
   "metadata": {},
   "outputs": [
    {
     "data": {
      "text/plain": [
       "<keras.callbacks.History at 0x7cf3a8ec3dd8>"
      ]
     },
     "execution_count": 31,
     "metadata": {},
     "output_type": "execute_result"
    }
   ],
   "source": [
    "# define model\n",
    "model_mvms = Sequential()\n",
    "model_mvms.add(LSTM(100, activation='relu', return_sequences=True, input_shape=(n_step, n_feature)))\n",
    "model_mvms.add(LSTM(100, activation='relu'))\n",
    "model_mvms.add(Dense(pred_step))\n",
    "model_mvms.compile(optimizer='adam', loss='mse')\n",
    "#\n",
    "model_mvms.fit(X, y, epochs=200, verbose=0)"
   ]
  },
  {
   "cell_type": "code",
   "execution_count": 32,
   "metadata": {},
   "outputs": [
    {
     "name": "stdout",
     "output_type": "stream",
     "text": [
      "(3, 2)\n",
      "[[[70 75]\n",
      "  [80 85]\n",
      "  [90 95]]]\n"
     ]
    }
   ],
   "source": [
    "x_test = np.array([[70, 75], [80, 85], [90, 95]])\n",
    "print(x_test.shape)\n",
    "x_test_mvms = x_test.reshape(1, n_step, n_feature)\n",
    "print(x_test_mvms)"
   ]
  },
  {
   "cell_type": "code",
   "execution_count": 33,
   "metadata": {},
   "outputs": [
    {
     "name": "stdout",
     "output_type": "stream",
     "text": [
      "[[186.67769 208.21722]]\n"
     ]
    }
   ],
   "source": [
    "yhat_mvms = model_mvms.predict(x_test_mvms)\n",
    "print(yhat_mvms)"
   ]
  },
  {
   "cell_type": "code",
   "execution_count": 34,
   "metadata": {},
   "outputs": [],
   "source": [
    "plot_model(model_mvms, to_file='9_5_1_lstm.png', show_shapes=True, show_layer_names=True)"
   ]
  },
  {
   "cell_type": "markdown",
   "metadata": {},
   "source": [
    "### Stacked LSTM model from Multi-variate and Multi-step\n",
    "<img src=\"./9_5_1_lstm.png\" alt=\"Drawing\" style=\"width: 600px;\"/>"
   ]
  },
  {
   "cell_type": "markdown",
   "metadata": {},
   "source": [
    "## 9.5.2 Multiple Parallel Input and Multi-step Output"
   ]
  },
  {
   "cell_type": "code",
   "execution_count": 35,
   "metadata": {},
   "outputs": [
    {
     "name": "stdout",
     "output_type": "stream",
     "text": [
      "[[ 10  15  25]\n",
      " [ 20  25  45]\n",
      " [ 30  35  65]\n",
      " [ 40  45  85]\n",
      " [ 50  55 105]\n",
      " [ 60  65 125]\n",
      " [ 70  75 145]\n",
      " [ 80  85 165]\n",
      " [ 90  95 185]]\n"
     ]
    }
   ],
   "source": [
    "print(dataset)"
   ]
  },
  {
   "cell_type": "code",
   "execution_count": 37,
   "metadata": {},
   "outputs": [
    {
     "name": "stdout",
     "output_type": "stream",
     "text": [
      "[[10 15 25]\n",
      " [20 25 45]\n",
      " [30 35 65]] [[ 40  45  85]\n",
      " [ 50  55 105]]\n",
      "[[20 25 45]\n",
      " [30 35 65]\n",
      " [40 45 85]] [[ 50  55 105]\n",
      " [ 60  65 125]]\n",
      "[[ 30  35  65]\n",
      " [ 40  45  85]\n",
      " [ 50  55 105]] [[ 60  65 125]\n",
      " [ 70  75 145]]\n",
      "[[ 40  45  85]\n",
      " [ 50  55 105]\n",
      " [ 60  65 125]] [[ 70  75 145]\n",
      " [ 80  85 165]]\n",
      "[[ 50  55 105]\n",
      " [ 60  65 125]\n",
      " [ 70  75 145]] [[ 80  85 165]\n",
      " [ 90  95 185]]\n"
     ]
    }
   ],
   "source": [
    "#\n",
    "n_step = 3\n",
    "pred_step = 2\n",
    "def split_sequence(series, n_step, pred_step):\n",
    "    x_list, y_list = [], [] \n",
    "    for s in range(series.shape[0]-(n_step+pred_step-1)):\n",
    "        x_list.append(series[s:s+n_step]),\n",
    "        y_list.append(series[s+n_step:s+n_step+pred_step])\n",
    "    X, y = np.array(x_list), np.array(y_list)\n",
    "    return X, y\n",
    "#\n",
    "X, y = split_sequence(dataset, n_step, pred_step)\n",
    "for i in range(X.shape[0]):\n",
    "    print(X[i], y[i])"
   ]
  },
  {
   "cell_type": "code",
   "execution_count": 39,
   "metadata": {},
   "outputs": [
    {
     "name": "stdout",
     "output_type": "stream",
     "text": [
      "(5, 3, 3) (5, 2, 3)\n"
     ]
    }
   ],
   "source": [
    "print(X.shape, y.shape)\n",
    "n_features = X.shape[2]\n",
    "n_steps = X.shape[1]"
   ]
  },
  {
   "cell_type": "markdown",
   "metadata": {},
   "source": [
    "In this case, we will use the Encoder-Decoder model."
   ]
  },
  {
   "cell_type": "code",
   "execution_count": 40,
   "metadata": {},
   "outputs": [
    {
     "data": {
      "text/plain": [
       "<keras.callbacks.History at 0x7cf39e137cc0>"
      ]
     },
     "execution_count": 40,
     "metadata": {},
     "output_type": "execute_result"
    }
   ],
   "source": [
    "# define encoder model \n",
    "model_endec = Sequential()\n",
    "model_endec.add(LSTM(100, activation='relu' , input_shape=(n_steps, n_features)))\n",
    "# repeat encoding\n",
    "model_endec.add(RepeatVector(pred_step))\n",
    "# define decoder model \n",
    "model_endec.add(LSTM(100, activation='relu' , return_sequences=True))\n",
    "# define model output\n",
    "model_endec.add(TimeDistributed(Dense(n_features)))\n",
    "#\n",
    "model_endec.compile(optimizer='adam', loss='mse')\n",
    "#\n",
    "model_endec.fit(X, y, epochs=300, verbose=0)"
   ]
  },
  {
   "cell_type": "code",
   "execution_count": 41,
   "metadata": {},
   "outputs": [
    {
     "name": "stdout",
     "output_type": "stream",
     "text": [
      "(3, 3)\n"
     ]
    }
   ],
   "source": [
    "x_test = np.array([[60, 65, 125], [70, 75, 145], [80, 85, 165]])\n",
    "print(x_test.shape)"
   ]
  },
  {
   "cell_type": "code",
   "execution_count": 44,
   "metadata": {},
   "outputs": [
    {
     "name": "stdout",
     "output_type": "stream",
     "text": [
      "(1, 3, 3)\n"
     ]
    }
   ],
   "source": [
    "x_test_mp = x_test.reshape(1, n_steps, n_features)\n",
    "print(x_test_mp.shape)"
   ]
  },
  {
   "cell_type": "code",
   "execution_count": 45,
   "metadata": {},
   "outputs": [
    {
     "name": "stdout",
     "output_type": "stream",
     "text": [
      "[[[ 90.93455   94.83655  184.76512 ]\n",
      "  [101.117546 104.210594 206.26268 ]]]\n"
     ]
    }
   ],
   "source": [
    "yhat_mp = model_endec.predict(x_test_mp)\n",
    "print(yhat_mp)"
   ]
  },
  {
   "cell_type": "code",
   "execution_count": null,
   "metadata": {},
   "outputs": [],
   "source": []
  }
 ],
 "metadata": {
  "kernelspec": {
   "display_name": "Python 3",
   "language": "python",
   "name": "python3"
  },
  "language_info": {
   "codemirror_mode": {
    "name": "ipython",
    "version": 3
   },
   "file_extension": ".py",
   "mimetype": "text/x-python",
   "name": "python",
   "nbconvert_exporter": "python",
   "pygments_lexer": "ipython3",
   "version": "3.7.3"
  }
 },
 "nbformat": 4,
 "nbformat_minor": 2
}
