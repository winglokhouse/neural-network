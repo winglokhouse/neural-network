{
 "cells": [
  {
   "cell_type": "markdown",
   "metadata": {},
   "source": [
    "### Create a sequence"
   ]
  },
  {
   "cell_type": "code",
   "execution_count": 17,
   "metadata": {},
   "outputs": [],
   "source": [
    "import pandas as pd\n",
    "import numpy as np"
   ]
  },
  {
   "cell_type": "code",
   "execution_count": 12,
   "metadata": {},
   "outputs": [
    {
     "name": "stdout",
     "output_type": "stream",
     "text": [
      "     0    0\n",
      "0  0.0  0.1\n",
      "1  0.1  0.2\n",
      "2  0.2  0.3\n",
      "3  0.3  0.4\n",
      "4  0.4  0.5\n",
      "5  0.5  0.6\n",
      "6  0.6  0.7\n",
      "7  0.7  0.8\n",
      "8  0.8  0.9\n"
     ]
    }
   ],
   "source": [
    "length = 10\n",
    "sequence = [i/length for i in range(length)]\n",
    "df = pd.DataFrame(sequence)\n",
    "df = pd.concat([df, df.shift(-1)], axis=1)\n",
    "df.dropna(axis=0, inplace=True)\n",
    "print(df)"
   ]
  },
  {
   "cell_type": "markdown",
   "metadata": {},
   "source": [
    "### Split the sequence to X and y. Reshape to LSTM format 3D"
   ]
  },
  {
   "cell_type": "code",
   "execution_count": 23,
   "metadata": {},
   "outputs": [
    {
     "name": "stdout",
     "output_type": "stream",
     "text": [
      "X shape : (9, 1, 1), y shape : (9,)\n"
     ]
    }
   ],
   "source": [
    "X, y = df.values[:, 0], df.values[:, 1]\n",
    "### 3D format of [rows, timesteps, columns]\n",
    "X = X.reshape(X.shape[0], 1, 1)\n",
    "print('X shape : {}, y shape : {}'.format(X.shape, y.shape))"
   ]
  },
  {
   "cell_type": "code",
   "execution_count": null,
   "metadata": {},
   "outputs": [],
   "source": []
  }
 ],
 "metadata": {
  "kernelspec": {
   "display_name": "Python 3",
   "language": "python",
   "name": "python3"
  },
  "language_info": {
   "codemirror_mode": {
    "name": "ipython",
    "version": 3
   },
   "file_extension": ".py",
   "mimetype": "text/x-python",
   "name": "python",
   "nbconvert_exporter": "python",
   "pygments_lexer": "ipython3",
   "version": "3.7.3"
  }
 },
 "nbformat": 4,
 "nbformat_minor": 2
}
