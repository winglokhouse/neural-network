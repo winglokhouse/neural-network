{
 "cells": [
  {
   "cell_type": "markdown",
   "metadata": {},
   "source": [
    "In this section, we will demonstrate the case of developing a multi-step forecast model using a vector model"
   ]
  },
  {
   "cell_type": "code",
   "execution_count": 1,
   "metadata": {},
   "outputs": [],
   "source": [
    "import numpy as np\n",
    "from keras.models import Sequential\n",
    "from keras.models import Model\n",
    "from keras.layers import Dense\n",
    "from keras.layers import Input\n",
    "from keras.layers import Dense\n",
    "from keras.layers.merge import concatenate"
   ]
  },
  {
   "cell_type": "markdown",
   "metadata": {},
   "source": [
    "## Data Preparation"
   ]
  },
  {
   "cell_type": "code",
   "execution_count": 13,
   "metadata": {},
   "outputs": [],
   "source": [
    "def split_sequence(series, n_step, pred_step):\n",
    "    x_list, y_list = [], [] \n",
    "    for s in range(series.shape[0]-n_step-pred_step+1):\n",
    "        x_list.append(series[s:s+n_step])\n",
    "        y_list.append(series[s+n_step:s+n_step+pred_step])\n",
    "    X, y = np.array(x_list), np.array(y_list)\n",
    "    return X, y"
   ]
  },
  {
   "cell_type": "code",
   "execution_count": 21,
   "metadata": {},
   "outputs": [],
   "source": [
    "def split_sequence_1(series, n_step, pred_step):\n",
    "    X, y = np.array(), np.array()\n",
    "    for s in range(series.shape[0]-n_step-pred_step+1):\n",
    "        X = np.concatenate(X, [series[s:s+n_step]], axis=0)\n",
    "        y = np.concatenate(y, [series[s+n_step:s+n_step+pred_step]], axis=0)\n",
    "    return X, y"
   ]
  },
  {
   "cell_type": "code",
   "execution_count": 23,
   "metadata": {},
   "outputs": [
    {
     "name": "stdout",
     "output_type": "stream",
     "text": [
      "[10 20 30] [40 50]\n",
      "[20 30 40] [50 60]\n",
      "[30 40 50] [60 70]\n",
      "[40 50 60] [70 80]\n",
      "[50 60 70] [80 90]\n"
     ]
    }
   ],
   "source": [
    "sequence = np.arange(10, 100, 10)\n",
    "n_step = 3\n",
    "pred_step = 2\n",
    "X, y = split_sequence(sequence, n_step, pred_step)\n",
    "for i in range(X.shape[0]):\n",
    "    print(X[i], y[i])"
   ]
  },
  {
   "cell_type": "code",
   "execution_count": 24,
   "metadata": {},
   "outputs": [
    {
     "name": "stdout",
     "output_type": "stream",
     "text": [
      "WARNING:tensorflow:From /opt/miniconda3/envs/conda_env/lib/python3.7/site-packages/tensorflow/python/framework/op_def_library.py:263: colocate_with (from tensorflow.python.framework.ops) is deprecated and will be removed in a future version.\n",
      "Instructions for updating:\n",
      "Colocations handled automatically by placer.\n"
     ]
    }
   ],
   "source": [
    "# define model\n",
    "model = Sequential()\n",
    "model.add(Dense(100, activation='relu', input_dim=n_step))\n",
    "model.add(Dense(pred_step))\n",
    "model.compile(optimizer='adam', loss='mse')"
   ]
  },
  {
   "cell_type": "code",
   "execution_count": 25,
   "metadata": {},
   "outputs": [
    {
     "name": "stdout",
     "output_type": "stream",
     "text": [
      "WARNING:tensorflow:From /opt/miniconda3/envs/conda_env/lib/python3.7/site-packages/tensorflow/python/ops/math_ops.py:3066: to_int32 (from tensorflow.python.ops.math_ops) is deprecated and will be removed in a future version.\n",
      "Instructions for updating:\n",
      "Use tf.cast instead.\n"
     ]
    },
    {
     "data": {
      "text/plain": [
       "<keras.callbacks.History at 0x7ef381c271d0>"
      ]
     },
     "execution_count": 25,
     "metadata": {},
     "output_type": "execute_result"
    }
   ],
   "source": [
    "model.fit(X, y, epochs=2000, verbose=0)"
   ]
  },
  {
   "cell_type": "code",
   "execution_count": 28,
   "metadata": {},
   "outputs": [
    {
     "data": {
      "text/plain": [
       "(5, 3)"
      ]
     },
     "execution_count": 28,
     "metadata": {},
     "output_type": "execute_result"
    }
   ],
   "source": [
    "X.shape"
   ]
  },
  {
   "cell_type": "code",
   "execution_count": 31,
   "metadata": {},
   "outputs": [
    {
     "name": "stdout",
     "output_type": "stream",
     "text": [
      "(3,)\n",
      "(1, 3)\n"
     ]
    }
   ],
   "source": [
    "X_test = np.array([60, 70, 80])\n",
    "print(X_test.shape)\n",
    "X_test = np.array([[60, 70, 80]])\n",
    "print(X_test.shape)"
   ]
  },
  {
   "cell_type": "code",
   "execution_count": 32,
   "metadata": {},
   "outputs": [
    {
     "name": "stdout",
     "output_type": "stream",
     "text": [
      "[[ 90.00833 100.17039]]\n"
     ]
    }
   ],
   "source": [
    "yhat = model.predict(X_test)\n",
    "print(yhat)"
   ]
  },
  {
   "cell_type": "markdown",
   "metadata": {},
   "source": [
    "## 7.5.1 Multiple Input Multi-step Output"
   ]
  },
  {
   "cell_type": "code",
   "execution_count": 38,
   "metadata": {},
   "outputs": [
    {
     "name": "stdout",
     "output_type": "stream",
     "text": [
      "[ 25  45  65  85 105 125 145 165 185]\n",
      "[[ 25]\n",
      " [ 45]\n",
      " [ 65]\n",
      " [ 85]\n",
      " [105]\n",
      " [125]\n",
      " [145]\n",
      " [165]\n",
      " [185]]\n"
     ]
    }
   ],
   "source": [
    "in_seq1 = np.arange(10, 100, 10)\n",
    "in_seq2 = np.arange(15, 105, 10)\n",
    "out_seq = in_seq1 + in_seq2\n",
    "print(out_seq)\n",
    "in_seq1 = in_seq1.reshape(in_seq1.shape[0], 1)\n",
    "in_seq2 = in_seq2.reshape(in_seq2.shape[0], 1)\n",
    "out_seq = out_seq.reshape(out_seq.shape[0], 1)\n",
    "print(out_seq)"
   ]
  },
  {
   "cell_type": "code",
   "execution_count": 40,
   "metadata": {},
   "outputs": [
    {
     "name": "stdout",
     "output_type": "stream",
     "text": [
      "[[ 10  15  25]\n",
      " [ 20  25  45]\n",
      " [ 30  35  65]\n",
      " [ 40  45  85]\n",
      " [ 50  55 105]\n",
      " [ 60  65 125]\n",
      " [ 70  75 145]\n",
      " [ 80  85 165]\n",
      " [ 90  95 185]]\n"
     ]
    }
   ],
   "source": [
    "dataset = np.hstack((in_seq1, in_seq2, out_seq))\n",
    "print(dataset)"
   ]
  },
  {
   "cell_type": "code",
   "execution_count": 49,
   "metadata": {},
   "outputs": [],
   "source": [
    "def split_sequence(series, n_step, pred_step):\n",
    "    x_list, y_list = [], [] \n",
    "    for s in range(series.shape[0]-(n_step+pred_step-2)):\n",
    "        x_list.append(series[s:s+n_step,:2])\n",
    "        y_list.append(series[s+n_step-1:s+n_step-1+pred_step,2])\n",
    "    X, y = np.array(x_list), np.array(y_list)\n",
    "    return X, y"
   ]
  },
  {
   "cell_type": "code",
   "execution_count": 50,
   "metadata": {},
   "outputs": [
    {
     "name": "stdout",
     "output_type": "stream",
     "text": [
      "(6, 3, 2) (6, 2)\n",
      "[[10 15]\n",
      " [20 25]\n",
      " [30 35]] [65 85]\n",
      "[[20 25]\n",
      " [30 35]\n",
      " [40 45]] [ 85 105]\n",
      "[[30 35]\n",
      " [40 45]\n",
      " [50 55]] [105 125]\n",
      "[[40 45]\n",
      " [50 55]\n",
      " [60 65]] [125 145]\n",
      "[[50 55]\n",
      " [60 65]\n",
      " [70 75]] [145 165]\n",
      "[[60 65]\n",
      " [70 75]\n",
      " [80 85]] [165 185]\n"
     ]
    }
   ],
   "source": [
    "n_step = 3\n",
    "pred_step = 2\n",
    "X, y = split_sequence(dataset, n_step, pred_step)\n",
    "print(X.shape, y.shape)\n",
    "for i in range(X.shape[0]):\n",
    "    print(X[i], y[i])"
   ]
  },
  {
   "cell_type": "code",
   "execution_count": 51,
   "metadata": {},
   "outputs": [
    {
     "name": "stdout",
     "output_type": "stream",
     "text": [
      "[[10 15 20 25 30 35]\n",
      " [20 25 30 35 40 45]\n",
      " [30 35 40 45 50 55]\n",
      " [40 45 50 55 60 65]\n",
      " [50 55 60 65 70 75]\n",
      " [60 65 70 75 80 85]]\n"
     ]
    }
   ],
   "source": [
    "input_feature = X.shape[1] * X.shape[2]\n",
    "X_flat = X.reshape(X.shape[0], input_feature)\n",
    "print(X_flat)"
   ]
  },
  {
   "cell_type": "code",
   "execution_count": 53,
   "metadata": {},
   "outputs": [
    {
     "data": {
      "text/plain": [
       "<keras.callbacks.History at 0x7ef38012e9b0>"
      ]
     },
     "execution_count": 53,
     "metadata": {},
     "output_type": "execute_result"
    }
   ],
   "source": [
    "# define model\n",
    "model = Sequential()\n",
    "model.add(Dense(100, activation='relu', input_dim=input_feature))\n",
    "model.add(Dense(pred_step))\n",
    "model.compile(optimizer='adam', loss='mse')\n",
    "model.fit(X_flat, y, epochs=2000, verbose=0)"
   ]
  },
  {
   "cell_type": "code",
   "execution_count": 54,
   "metadata": {},
   "outputs": [
    {
     "name": "stdout",
     "output_type": "stream",
     "text": [
      "[[70 75 80 85 90 95]]\n"
     ]
    }
   ],
   "source": [
    "x_test = np.array([[70, 75], [80, 85], [90, 95]])\n",
    "x_test_flat = x_test.reshape(1, input_feature)\n",
    "print(x_test_flat)"
   ]
  },
  {
   "cell_type": "code",
   "execution_count": 55,
   "metadata": {},
   "outputs": [
    {
     "name": "stdout",
     "output_type": "stream",
     "text": [
      "[[186.17825 206.37494]]\n"
     ]
    }
   ],
   "source": [
    "yhat = model.predict(x_test_flat)\n",
    "print(yhat)"
   ]
  },
  {
   "cell_type": "markdown",
   "metadata": {},
   "source": [
    "## 7.5.2 Multiple Parallel Input and Multi-step Output"
   ]
  },
  {
   "cell_type": "code",
   "execution_count": 57,
   "metadata": {},
   "outputs": [
    {
     "name": "stdout",
     "output_type": "stream",
     "text": [
      "[[ 10  15  25]\n",
      " [ 20  25  45]\n",
      " [ 30  35  65]\n",
      " [ 40  45  85]\n",
      " [ 50  55 105]\n",
      " [ 60  65 125]\n",
      " [ 70  75 145]\n",
      " [ 80  85 165]\n",
      " [ 90  95 185]]\n"
     ]
    }
   ],
   "source": [
    "print(dataset)"
   ]
  },
  {
   "cell_type": "code",
   "execution_count": 60,
   "metadata": {},
   "outputs": [],
   "source": [
    "def split_sequence(series, n_step, pred_step):\n",
    "    x_list, y_list = [], [] \n",
    "    for s in range(series.shape[0]-(n_step+pred_step)+1):\n",
    "        x_list.append(series[s:s+n_step])\n",
    "        y_list.append(series[s+n_step:s+n_step+pred_step])\n",
    "    X, y = np.array(x_list), np.array(y_list)\n",
    "    return X, y"
   ]
  },
  {
   "cell_type": "code",
   "execution_count": 63,
   "metadata": {},
   "outputs": [
    {
     "name": "stdout",
     "output_type": "stream",
     "text": [
      "(5, 3, 3) (5, 2, 3)\n",
      "[[10 15 25]\n",
      " [20 25 45]\n",
      " [30 35 65]] [[ 40  45  85]\n",
      " [ 50  55 105]]\n",
      "[[20 25 45]\n",
      " [30 35 65]\n",
      " [40 45 85]] [[ 50  55 105]\n",
      " [ 60  65 125]]\n",
      "[[ 30  35  65]\n",
      " [ 40  45  85]\n",
      " [ 50  55 105]] [[ 60  65 125]\n",
      " [ 70  75 145]]\n",
      "[[ 40  45  85]\n",
      " [ 50  55 105]\n",
      " [ 60  65 125]] [[ 70  75 145]\n",
      " [ 80  85 165]]\n",
      "[[ 50  55 105]\n",
      " [ 60  65 125]\n",
      " [ 70  75 145]] [[ 80  85 165]\n",
      " [ 90  95 185]]\n"
     ]
    }
   ],
   "source": [
    "n_step = 3\n",
    "pred_step = 2\n",
    "X, y = split_sequence(dataset, n_step, pred_step)\n",
    "print(X.shape, y.shape)\n",
    "for i in range(X.shape[0]):\n",
    "    print(X[i], y[i])"
   ]
  },
  {
   "cell_type": "code",
   "execution_count": 65,
   "metadata": {},
   "outputs": [
    {
     "name": "stdout",
     "output_type": "stream",
     "text": [
      "[[ 10  15  25  20  25  45  30  35  65]\n",
      " [ 20  25  45  30  35  65  40  45  85]\n",
      " [ 30  35  65  40  45  85  50  55 105]\n",
      " [ 40  45  85  50  55 105  60  65 125]\n",
      " [ 50  55 105  60  65 125  70  75 145]]\n"
     ]
    }
   ],
   "source": [
    "input_feature = X.shape[1] * X.shape[2]\n",
    "output_feature = y.shape[1] * y.shape[2]\n",
    "X_flat = X.reshape(X.shape[0], input_feature)\n",
    "y_flat = y.reshape(y.shape[0], output_feature)\n",
    "print(X_flat)"
   ]
  },
  {
   "cell_type": "code",
   "execution_count": 67,
   "metadata": {},
   "outputs": [
    {
     "data": {
      "text/plain": [
       "<keras.callbacks.History at 0x7ef3604a7208>"
      ]
     },
     "execution_count": 67,
     "metadata": {},
     "output_type": "execute_result"
    }
   ],
   "source": [
    "# define model\n",
    "model = Sequential()\n",
    "model.add(Dense(100, activation='relu', input_dim=input_feature))\n",
    "model.add(Dense(output_feature))\n",
    "model.compile(optimizer='adam', loss='mse')\n",
    "model.fit(X_flat, y_flat, epochs=2000, verbose=0)"
   ]
  },
  {
   "cell_type": "code",
   "execution_count": 68,
   "metadata": {},
   "outputs": [
    {
     "name": "stdout",
     "output_type": "stream",
     "text": [
      "[[ 60  65 125  70  75 145  80  85 165]]\n"
     ]
    }
   ],
   "source": [
    "x_test = np.array([[60, 65, 125], [70, 75, 145], [80, 85, 165]])\n",
    "x_test_flat = x_test.reshape(1, input_feature)\n",
    "print(x_test_flat)"
   ]
  },
  {
   "cell_type": "code",
   "execution_count": 69,
   "metadata": {},
   "outputs": [
    {
     "name": "stdout",
     "output_type": "stream",
     "text": [
      "[[ 90.62378  96.18749 186.86935 100.93761 106.34216 208.01758]]\n"
     ]
    }
   ],
   "source": [
    "yhat = model.predict(x_test_flat)\n",
    "print(yhat)"
   ]
  },
  {
   "cell_type": "code",
   "execution_count": 71,
   "metadata": {},
   "outputs": [
    {
     "data": {
      "text/plain": [
       "array([[ 90.62378,  96.18749, 186.86935],\n",
       "       [100.93761, 106.34216, 208.01758]], dtype=float32)"
      ]
     },
     "execution_count": 71,
     "metadata": {},
     "output_type": "execute_result"
    }
   ],
   "source": [
    "yhat.reshape(pred_step, y.shape[2])"
   ]
  },
  {
   "cell_type": "code",
   "execution_count": null,
   "metadata": {},
   "outputs": [],
   "source": []
  }
 ],
 "metadata": {
  "kernelspec": {
   "display_name": "Python 3",
   "language": "python",
   "name": "python3"
  },
  "language_info": {
   "codemirror_mode": {
    "name": "ipython",
    "version": 3
   },
   "file_extension": ".py",
   "mimetype": "text/x-python",
   "name": "python",
   "nbconvert_exporter": "python",
   "pygments_lexer": "ipython3",
   "version": "3.7.3"
  }
 },
 "nbformat": 4,
 "nbformat_minor": 2
}
