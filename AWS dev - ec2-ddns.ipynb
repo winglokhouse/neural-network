{
 "cells": [
  {
   "cell_type": "code",
   "execution_count": 1,
   "metadata": {},
   "outputs": [],
   "source": [
    "import boto3"
   ]
  },
  {
   "cell_type": "code",
   "execution_count": 2,
   "metadata": {},
   "outputs": [],
   "source": [
    "s = boto3"
   ]
  },
  {
   "cell_type": "code",
   "execution_count": 3,
   "metadata": {},
   "outputs": [],
   "source": [
    "ec2sr = s.resource('ec2', region_name='ap-east-1')\n",
    "ec2cl = boto3.client('ec2', region_name='ap-east-1')"
   ]
  },
  {
   "cell_type": "code",
   "execution_count": 4,
   "metadata": {},
   "outputs": [
    {
     "name": "stdout",
     "output_type": "stream",
     "text": [
      "i-0f013081393ca3e42\n",
      "t3.small\n",
      "running\n",
      "18.162.52.4\n"
     ]
    }
   ],
   "source": [
    "instanceID = 'i-0f013081393ca3e42'\n",
    "ec2Boot = ec2sr.Instance(instanceID)\n",
    "print(ec2Boot.instance_id)\n",
    "print(ec2Boot.instance_type)\n",
    "print(ec2Boot.state['Name'])\n",
    "print(ec2Boot.public_ip_address)"
   ]
  },
  {
   "cell_type": "code",
   "execution_count": 5,
   "metadata": {},
   "outputs": [],
   "source": [
    "labHostedZoneID = 'Z28ASKRNGI90AH'\n",
    "labHotsedZone = 'lab.winglokhouse.com'\n",
    "ec2fqdn= 'whiz.lab.winglokhouse.com'\n",
    "s1 = boto3\n",
    "route53cl = s1.client('route53')\n",
    "dnsResp = route53cl.list_resource_record_sets(HostedZoneId=labHostedZoneID,StartRecordName=ec2fqdn,StartRecordType='A')"
   ]
  },
  {
   "cell_type": "code",
   "execution_count": 6,
   "metadata": {},
   "outputs": [
    {
     "data": {
      "text/plain": [
       "[{'Name': 'whiz.lab.winglokhouse.com.',\n",
       "  'Type': 'A',\n",
       "  'TTL': 300,\n",
       "  'ResourceRecords': [{'Value': '18.162.111.174'}]}]"
      ]
     },
     "execution_count": 6,
     "metadata": {},
     "output_type": "execute_result"
    }
   ],
   "source": [
    "dnsRRList = dnsResp['ResourceRecordSets']\n",
    "dnsRRList"
   ]
  },
  {
   "cell_type": "code",
   "execution_count": 7,
   "metadata": {},
   "outputs": [
    {
     "name": "stdout",
     "output_type": "stream",
     "text": [
      "18.162.111.174\n"
     ]
    }
   ],
   "source": [
    "print(dnsRRList[0]['ResourceRecords'][0]['Value'])"
   ]
  },
  {
   "cell_type": "code",
   "execution_count": 8,
   "metadata": {},
   "outputs": [
    {
     "data": {
      "text/plain": [
       "'18.162.52.4'"
      ]
     },
     "execution_count": 8,
     "metadata": {},
     "output_type": "execute_result"
    }
   ],
   "source": [
    "ec2Boot.public_ip_address"
   ]
  },
  {
   "cell_type": "code",
   "execution_count": 9,
   "metadata": {},
   "outputs": [],
   "source": [
    "dnsChangeAction = 'UPSERT'"
   ]
  },
  {
   "cell_type": "code",
   "execution_count": 10,
   "metadata": {},
   "outputs": [],
   "source": [
    "dnsChange={\n",
    "    'Changes': [\n",
    "        {\n",
    "            'Action': dnsChangeAction,\n",
    "            'ResourceRecordSet': {\n",
    "                'Name': ec2fqdn,\n",
    "                'Type': 'A',\n",
    "                'TTL': 300,\n",
    "                'ResourceRecords': [\n",
    "                    {\n",
    "                        'Value': ec2Boot.public_ip_address\n",
    "                    }\n",
    "                ]\n",
    "            }\n",
    "        }\n",
    "    ]\n",
    "}"
   ]
  },
  {
   "cell_type": "code",
   "execution_count": 11,
   "metadata": {},
   "outputs": [
    {
     "data": {
      "text/plain": [
       "{'Changes': [{'Action': 'UPSERT',\n",
       "   'ResourceRecordSet': {'Name': 'whiz.lab.winglokhouse.com',\n",
       "    'Type': 'A',\n",
       "    'TTL': 300,\n",
       "    'ResourceRecords': [{'Value': '18.162.52.4'}]}}]}"
      ]
     },
     "execution_count": 11,
     "metadata": {},
     "output_type": "execute_result"
    }
   ],
   "source": [
    "dnsChange"
   ]
  },
  {
   "cell_type": "code",
   "execution_count": 12,
   "metadata": {},
   "outputs": [],
   "source": [
    "dnsResp = route53cl.change_resource_record_sets(HostedZoneId=labHostedZoneID,ChangeBatch=dnsChange)"
   ]
  },
  {
   "cell_type": "code",
   "execution_count": 13,
   "metadata": {},
   "outputs": [
    {
     "data": {
      "text/plain": [
       "{'ResponseMetadata': {'RequestId': '29b93fd0-94d2-11e9-a32b-7937884b0ed5',\n",
       "  'HTTPStatusCode': 200,\n",
       "  'HTTPHeaders': {'x-amzn-requestid': '29b93fd0-94d2-11e9-a32b-7937884b0ed5',\n",
       "   'content-type': 'text/xml',\n",
       "   'content-length': '276',\n",
       "   'date': 'Sat, 22 Jun 2019 09:43:17 GMT'},\n",
       "  'RetryAttempts': 0},\n",
       " 'ChangeInfo': {'Id': '/change/C2J4JGMYCYHP4R',\n",
       "  'Status': 'PENDING',\n",
       "  'SubmittedAt': datetime.datetime(2019, 6, 22, 9, 43, 17, 589000, tzinfo=tzutc())}}"
      ]
     },
     "execution_count": 13,
     "metadata": {},
     "output_type": "execute_result"
    }
   ],
   "source": [
    "dnsResp"
   ]
  },
  {
   "cell_type": "code",
   "execution_count": null,
   "metadata": {},
   "outputs": [],
   "source": []
  }
 ],
 "metadata": {
  "kernelspec": {
   "display_name": "Python 3",
   "language": "python",
   "name": "python3"
  },
  "language_info": {
   "codemirror_mode": {
    "name": "ipython",
    "version": 3
   },
   "file_extension": ".py",
   "mimetype": "text/x-python",
   "name": "python",
   "nbconvert_exporter": "python",
   "pygments_lexer": "ipython3",
   "version": "3.7.3"
  }
 },
 "nbformat": 4,
 "nbformat_minor": 2
}
